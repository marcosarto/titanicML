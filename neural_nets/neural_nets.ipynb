{
  "nbformat": 4,
  "nbformat_minor": 0,
  "metadata": {
    "kernelspec": {
      "display_name": "Python 3",
      "language": "python",
      "name": "python3"
    },
    "language_info": {
      "codemirror_mode": {
        "name": "ipython",
        "version": 3
      },
      "file_extension": ".py",
      "mimetype": "text/x-python",
      "name": "python",
      "nbconvert_exporter": "python",
      "pygments_lexer": "ipython3",
      "version": "3.8.5"
    },
    "colab": {
      "name": "Copia di HSMA_neural_nets.ipynb",
      "provenance": [],
      "include_colab_link": true
    }
  },
  "cells": [
    {
      "cell_type": "markdown",
      "metadata": {
        "id": "view-in-github",
        "colab_type": "text"
      },
      "source": [
        "<a href=\"https://colab.research.google.com/github/marcosarto/titanicML/blob/main/neural_nets/neural_nets.ipynb\" target=\"_parent\"><img src=\"https://colab.research.google.com/assets/colab-badge.svg\" alt=\"Open In Colab\"/></a>"
      ]
    },
    {
      "cell_type": "code",
      "metadata": {
        "id": "ZSCum1diHP9W"
      },
      "source": [
        "# Evito scritte questa funzione verra' deprecata ecc\n",
        "import warnings\n",
        "warnings.filterwarnings(\"ignore\")"
      ],
      "execution_count": 14,
      "outputs": []
    },
    {
      "cell_type": "markdown",
      "metadata": {
        "id": "1BkA5ryhHP9X"
      },
      "source": [
        "## Load modules"
      ]
    },
    {
      "cell_type": "code",
      "metadata": {
        "id": "J2fP3f59HP9X"
      },
      "source": [
        "import matplotlib.pyplot as plt\n",
        "import numpy as np\n",
        "import pandas as pd\n",
        "\n",
        "# sklearn\n",
        "from sklearn.model_selection import train_test_split\n",
        "from sklearn.preprocessing import MinMaxScaler\n",
        "\n",
        "# TensorFlow (e keras al di sopra)\n",
        "from tensorflow import keras\n",
        "from tensorflow.keras import backend as K\n",
        "from tensorflow.keras.models import Sequential\n",
        "from tensorflow.keras.layers import BatchNormalization\n",
        "from tensorflow.keras.layers import Dense\n",
        "from tensorflow.keras.layers import Dropout\n",
        "from tensorflow.keras.optimizers import Adam"
      ],
      "execution_count": 15,
      "outputs": []
    },
    {
      "cell_type": "code",
      "metadata": {
        "id": "0V9lTvUXHP9Y"
      },
      "source": [
        "marcello = pd.read_csv('https://raw.githubusercontent.com/marcosarto/titanicML/main/neural_nets/processed_test.csv')\n",
        "marcello = marcello.astype(float)\n",
        "    \n",
        "data = pd.read_csv('https://raw.githubusercontent.com/marcosarto/titanicML/main/neural_nets/processed_train.csv')"
      ],
      "execution_count": 16,
      "outputs": []
    },
    {
      "cell_type": "markdown",
      "metadata": {
        "id": "QqeLdDrAHP9Y"
      },
      "source": [
        "## Scalo i dati tra 0 - 1\n",
        "\n",
        "Sottraggo la media e divido per la deviazione standard"
      ]
    },
    {
      "cell_type": "code",
      "metadata": {
        "id": "0_UyRCT_HP9Z"
      },
      "source": [
        "def scale_data(X_train, X_test):\n",
        "    \"Scalo i dati tra 0-1 in base al loro valore nel dataframe\"\n",
        "    \n",
        "    sc = MinMaxScaler()\n",
        "\n",
        "    sc.fit(X_train)\n",
        "\n",
        "    train_sc = sc.transform(X_train)\n",
        "    test_sc = sc.transform(X_test)\n",
        "    \n",
        "    return train_sc, test_sc"
      ],
      "execution_count": 17,
      "outputs": []
    },
    {
      "cell_type": "markdown",
      "metadata": {
        "id": "d6niBdJvHP9Z"
      },
      "source": [
        "## Load data"
      ]
    },
    {
      "cell_type": "code",
      "metadata": {
        "id": "JW7FDsgHHP9Z"
      },
      "source": [
        "# Pongo i dati a float (per fare poi la normalizzazione)\n",
        "data = data.astype(float)\n",
        "data.drop('PassengerId', inplace=True, axis=1)\n",
        "X = data.drop('Survived',axis=1) # Colonne PassengerId inutile, survived viene salvata in y\n",
        "y = data['Survived']"
      ],
      "execution_count": 18,
      "outputs": []
    },
    {
      "cell_type": "code",
      "metadata": {
        "id": "RVdGSPB9Yt1B"
      },
      "source": [
        "marcello.drop('PassengerId', inplace=True, axis=1)\n",
        "marcello['Embarked_missing']=marcello['EmbarkedImputed'].values\n",
        "marcello['CabinLetter_T']=marcello['CabinLetter_F'].values"
      ],
      "execution_count": 19,
      "outputs": []
    },
    {
      "cell_type": "markdown",
      "metadata": {
        "id": "zdUeYTWYHP9Z"
      },
      "source": [
        "# Creo la rete neurale\n",
        "\n"
      ]
    },
    {
      "cell_type": "code",
      "metadata": {
        "id": "119JvwooHP9a"
      },
      "source": [
        "def make_net(number_features, \n",
        "             hidden_layers=3, \n",
        "             hidden_layer_neurones=128, \n",
        "             dropout=0.0, \n",
        "             learning_rate=0.003):\n",
        "    \n",
        "    # Forse non più necessario, pulisce eventuali rimanenze\n",
        "    K.clear_session()\n",
        "    \n",
        "    # Creo una neural completamente connessa\n",
        "    net = Sequential()\n",
        "    \n",
        "    # For che crea gli strati\n",
        "    for i in range(hidden_layers):\n",
        "        # Tutti gli strati usano ReLu come funzione di attivazione tranne l'output\n",
        "        net.add(Dense(\n",
        "            hidden_layer_neurones, \n",
        "            input_dim=number_features,\n",
        "            activation='relu'))\n",
        "        # Trattamento dell'overfit con dropout (lo aggiungo dopo ogni layer)\n",
        "        # Potrei usare anche tecniche che lo mettono solo in alcuni layers\n",
        "        net.add(Dropout(dropout))\n",
        "    \n",
        "    # Vogliamo una percentuale (vivo/morto) => sigmoide\n",
        "    net.add(Dense(1, activation='sigmoid'))    \n",
        "    \n",
        "    # Sclego adam come scritto nella relazione perchè.\n",
        "    # In sostanza è generalmente il migliore\n",
        "    opt = Adam(lr=learning_rate)\n",
        "    \n",
        "    # Funzione di loss compatibile con il problema di classificazione a 2 valori\n",
        "    #accuracy per poter giudicare come farebbe kaggle\n",
        "    net.compile(loss='binary_crossentropy', \n",
        "                optimizer=opt, \n",
        "                metrics=['accuracy'])\n",
        "    \n",
        "    return net"
      ],
      "execution_count": 20,
      "outputs": []
    },
    {
      "cell_type": "markdown",
      "metadata": {
        "id": "gO5SIllnHP9a"
      },
      "source": [
        "## Split and Scale data"
      ]
    },
    {
      "cell_type": "code",
      "metadata": {
        "id": "4IuWLDNMHP9b"
      },
      "source": [
        "# Divido tra train e validation\n",
        "X_train, X_test, y_train, y_test = train_test_split(\n",
        "    X, y, test_size = 0.25, random_state=42)\n",
        "\n",
        "# Scalo tra 0 e 1\n",
        "X_train_sc, X_test_sc = scale_data(X_train, X_test)"
      ],
      "execution_count": 21,
      "outputs": []
    },
    {
      "cell_type": "code",
      "metadata": {
        "id": "Wsq15my9R1MV"
      },
      "source": [
        "sc = MinMaxScaler()\n",
        "\n",
        "# Set up the scaler just on the training set\n",
        "sc.fit(marcello)\n",
        "\n",
        "# Apply the scaler to the training and test sets\n",
        "marcello_sc = sc.transform(marcello)\n",
        "    "
      ],
      "execution_count": 22,
      "outputs": []
    },
    {
      "cell_type": "markdown",
      "metadata": {
        "id": "t9c3kxCaHP9b"
      },
      "source": [
        "## Cerco di copiare una funzione di valutazione tipo kaggle (accuracy)"
      ]
    },
    {
      "cell_type": "code",
      "metadata": {
        "id": "zUD-M3LSHP9b"
      },
      "source": [
        "def calculate_accuracy(model, X_train_sc, X_test_sc, y_train, y_test):  \n",
        "    \n",
        "    ### Accuracy del train\n",
        "    probability = model.predict(X_train_sc)\n",
        "    y_pred_train = probability >= 0.5\n",
        "    #Serve solo per rendere l'array di dimensione che ci aspettiamo,\n",
        "    #Tensorflow mi da in output qualcosa non uno dimensionale\n",
        "    y_pred_train = y_pred_train.flatten()\n",
        "    accuracy_train = np.mean(y_pred_train == y_train)\n",
        "    \n",
        "    ### Accuracy del validation\n",
        "    probability = model.predict(X_test_sc)\n",
        "    y_pred_test = probability >= 0.5\n",
        "    y_pred_test = y_pred_test.flatten()\n",
        "    accuracy_test = np.mean(y_pred_test == y_test)\n",
        "\n",
        "    print (f'Training accuracy {accuracy_train:0.3f}')\n",
        "    print (f'Test accuracy {accuracy_test:0.3f}')"
      ],
      "execution_count": 23,
      "outputs": []
    },
    {
      "cell_type": "code",
      "metadata": {
        "id": "4IO-duBkHP9b"
      },
      "source": [
        "def plot_training(history_dict):\n",
        "    acc_values = history_dict['accuracy']\n",
        "    val_acc_values = history_dict['val_accuracy']\n",
        "    epochs = range(1, len(acc_values) + 1)\n",
        "\n",
        "    plt.plot(epochs, acc_values, 'bo', label='Train-set acc')\n",
        "    plt.plot(epochs, val_acc_values, 'b', label='Validation-set accuracy')\n",
        "    plt.title('Prestazioni dell\\' accuracy')\n",
        "    plt.xlabel('Epoche')\n",
        "    plt.ylabel('Accuracy')\n",
        "    plt.legend()\n",
        "\n",
        "    plt.show()"
      ],
      "execution_count": 24,
      "outputs": []
    },
    {
      "cell_type": "markdown",
      "metadata": {
        "id": "34pWODw4HP9c"
      },
      "source": [
        "## Run the model"
      ]
    },
    {
      "cell_type": "code",
      "metadata": {
        "id": "UCBcHU-mHP9c"
      },
      "source": [
        "number_features = X_train_sc.shape[1]\n",
        "model = make_net(number_features) #I parametri non definiti useranno val default\n",
        "\n",
        "history = model.fit(X_train_sc,\n",
        "                    y_train,\n",
        "                    epochs=250,\n",
        "                    batch_size=64,\n",
        "                    validation_data=(X_test_sc, y_test),\n",
        "                    verbose=0)"
      ],
      "execution_count": 25,
      "outputs": []
    },
    {
      "cell_type": "code",
      "metadata": {
        "id": "yCo8fns0HP9c",
        "colab": {
          "base_uri": "https://localhost:8080/"
        },
        "outputId": "c120f1e9-e12b-407d-eb33-97b9517f8fe9"
      },
      "source": [
        "calculate_accuracy(model, X_train_sc, X_test_sc, y_train, y_test)"
      ],
      "execution_count": 26,
      "outputs": [
        {
          "output_type": "stream",
          "text": [
            "Training accuracy 0.921\n",
            "Test accuracy 0.776\n"
          ],
          "name": "stdout"
        }
      ]
    },
    {
      "cell_type": "code",
      "metadata": {
        "id": "nLRC0OnuHP9d",
        "colab": {
          "base_uri": "https://localhost:8080/",
          "height": 295
        },
        "outputId": "2fbb7f43-971c-461a-952f-ea193312227c"
      },
      "source": [
        "plot_training(history.history)"
      ],
      "execution_count": 27,
      "outputs": [
        {
          "output_type": "display_data",
          "data": {
            "image/png": "[encoded data removed]",
            "text/plain": [
              "<Figure size 432x288 with 1 Axes>"
            ]
          },
          "metadata": {
            "tags": [],
            "needs_background": "light"
          }
        }
      ]
    },
    {
      "cell_type": "markdown",
      "metadata": {
        "id": "jkubxmVYHP9d"
      },
      "source": [
        "## Provo a ridurre l'overfit"
      ]
    },
    {
      "cell_type": "markdown",
      "metadata": {
        "id": "xrP8NU8fHP9d"
      },
      "source": [
        "### 1) Alleggerisco il modello\n"
      ]
    },
    {
      "cell_type": "code",
      "metadata": {
        "id": "sC04kB75HP9d"
      },
      "source": [
        "number_features = X_train_sc.shape[1]\n",
        "model = make_net(number_features,\n",
        "                hidden_layers=1,\n",
        "                hidden_layer_neurones=32)\n",
        "\n",
        "history = model.fit(X_train_sc,\n",
        "                    y_train,\n",
        "                    epochs=250,\n",
        "                    batch_size=64,\n",
        "                    validation_data=(X_test_sc, y_test),\n",
        "                    verbose=0)"
      ],
      "execution_count": 28,
      "outputs": []
    },
    {
      "cell_type": "code",
      "metadata": {
        "id": "hD2c5mCkHP9d",
        "colab": {
          "base_uri": "https://localhost:8080/"
        },
        "outputId": "6f119295-0fca-4f3a-bc3d-dd691be9cdfc"
      },
      "source": [
        "calculate_accuracy(model, X_train_sc, X_test_sc, y_train, y_test)"
      ],
      "execution_count": 29,
      "outputs": [
        {
          "output_type": "stream",
          "text": [
            "Training accuracy 0.873\n",
            "Test accuracy 0.803\n"
          ],
          "name": "stdout"
        }
      ]
    },
    {
      "cell_type": "code",
      "metadata": {
        "id": "bSwtJdSxHP9e",
        "colab": {
          "base_uri": "https://localhost:8080/",
          "height": 295
        },
        "outputId": "13d87825-108a-43d5-b8ba-d858841569a1"
      },
      "source": [
        "plot_training(history.history)"
      ],
      "execution_count": 30,
      "outputs": [
        {
          "output_type": "display_data",
          "data": {
            "image/png": "[encoded data removed]",
            "text/plain": [
              "<Figure size 432x288 with 1 Axes>"
            ]
          },
          "metadata": {
            "tags": [],
            "needs_background": "light"
          }
        }
      ]
    },
    {
      "cell_type": "markdown",
      "metadata": {
        "id": "VbBqhMFQHP9e"
      },
      "source": [
        "### 2) Mi fermo prima con le epoche"
      ]
    },
    {
      "cell_type": "code",
      "metadata": {
        "id": "bAHAf4utHP9e"
      },
      "source": [
        "number_features = X_train_sc.shape[1]\n",
        "model = make_net(number_features)\n",
        "\n",
        "history = model.fit(X_train_sc,\n",
        "                    y_train,\n",
        "                    epochs=25,\n",
        "                    batch_size=64,\n",
        "                    validation_data=(X_test_sc, y_test),\n",
        "                    verbose=0)"
      ],
      "execution_count": 31,
      "outputs": []
    },
    {
      "cell_type": "code",
      "metadata": {
        "id": "pVxy9bFOHP9e",
        "colab": {
          "base_uri": "https://localhost:8080/"
        },
        "outputId": "b53b3401-44f7-46bc-8233-8acd24cc956e"
      },
      "source": [
        "calculate_accuracy(model, X_train_sc, X_test_sc, y_train, y_test)"
      ],
      "execution_count": 32,
      "outputs": [
        {
          "output_type": "stream",
          "text": [
            "Training accuracy 0.880\n",
            "Test accuracy 0.794\n"
          ],
          "name": "stdout"
        }
      ]
    },
    {
      "cell_type": "code",
      "metadata": {
        "id": "qDaOWrz9HP9e",
        "colab": {
          "base_uri": "https://localhost:8080/",
          "height": 295
        },
        "outputId": "58d10a89-a5fe-4d06-ee8a-dcc5b684be08"
      },
      "source": [
        "plot_training(history.history)"
      ],
      "execution_count": 33,
      "outputs": [
        {
          "output_type": "display_data",
          "data": {
            "image/png": "[encoded data removed]",
            "text/plain": [
              "<Figure size 432x288 with 1 Axes>"
            ]
          },
          "metadata": {
            "tags": [],
            "needs_background": "light"
          }
        }
      ]
    },
    {
      "cell_type": "markdown",
      "metadata": {
        "id": "NPHRqf9fHP9f"
      },
      "source": [
        "### 3) Aggiungo i dropout"
      ]
    },
    {
      "cell_type": "code",
      "metadata": {
        "id": "pRQ4-2AeHP9f"
      },
      "source": [
        "number_features = X_train_sc.shape[1]\n",
        "model = make_net(number_features,\n",
        "                dropout=0.5)\n",
        "\n",
        "history = model.fit(X_train_sc,\n",
        "                    y_train,\n",
        "                    epochs=250,\n",
        "                    batch_size=64,\n",
        "                    validation_data=(X_test_sc, y_test),\n",
        "                    verbose=0)"
      ],
      "execution_count": 34,
      "outputs": []
    },
    {
      "cell_type": "code",
      "metadata": {
        "id": "pTMHuxQiHP9f",
        "colab": {
          "base_uri": "https://localhost:8080/"
        },
        "outputId": "9cd5d6ca-2b65-4d10-e435-2285805ea917"
      },
      "source": [
        "calculate_accuracy(model, X_train_sc, X_test_sc, y_train, y_test)"
      ],
      "execution_count": 35,
      "outputs": [
        {
          "output_type": "stream",
          "text": [
            "Training accuracy 0.889\n",
            "Test accuracy 0.803\n"
          ],
          "name": "stdout"
        }
      ]
    },
    {
      "cell_type": "code",
      "metadata": {
        "id": "EU8HWtUqHP9f",
        "colab": {
          "base_uri": "https://localhost:8080/",
          "height": 295
        },
        "outputId": "cb3cd776-cd4a-4f8b-d300-344d7c6917df"
      },
      "source": [
        "plot_training(history.history)"
      ],
      "execution_count": 36,
      "outputs": [
        {
          "output_type": "display_data",
          "data": {
            "image/png": "[encoded data removed]",
            "text/plain": [
              "<Figure size 432x288 with 1 Axes>"
            ]
          },
          "metadata": {
            "tags": [],
            "needs_background": "light"
          }
        }
      ]
    },
    {
      "cell_type": "markdown",
      "metadata": {
        "id": "2epK6POTHP9g"
      },
      "source": [
        "### 5) Unisco varie tecniche sopra, più mi faccio aiutare da keras per interrompere quando raggiungo il picco (aggiungendo un piccolo momentum per non fermarmi in un minimo locale)"
      ]
    },
    {
      "cell_type": "code",
      "metadata": {
        "id": "0rhjS2n1HP9g"
      },
      "source": [
        "# Chiedo a keras di fermarsi quando trova un massimo\n",
        "# Provo 25 epoche dopo il massimo per verificare di non essere in un max locale\n",
        "early_stopping_cb = keras.callbacks.EarlyStopping(\n",
        "    patience=25, restore_best_weights=True)\n",
        "\n",
        "number_features = X_train_sc.shape[1]\n",
        "model = make_net(\n",
        "    number_features,\n",
        "    hidden_layers=2,\n",
        "    hidden_layer_neurones=64,\n",
        "    dropout=0.3)\n",
        "\n",
        "history = model.fit(X_train_sc,\n",
        "                    y_train,\n",
        "                    epochs=250,\n",
        "                    batch_size=64,\n",
        "                    validation_data=(X_test_sc, y_test),\n",
        "                    verbose=0,\n",
        "                    callbacks=[early_stopping_cb])"
      ],
      "execution_count": 37,
      "outputs": []
    },
    {
      "cell_type": "code",
      "metadata": {
        "id": "iELwVVOcHP9g",
        "colab": {
          "base_uri": "https://localhost:8080/"
        },
        "outputId": "edb49b0e-881d-4578-ed13-55659ca040ff"
      },
      "source": [
        "calculate_accuracy(model, X_train_sc, X_test_sc, y_train, y_test)"
      ],
      "execution_count": 38,
      "outputs": [
        {
          "output_type": "stream",
          "text": [
            "Training accuracy 0.834\n",
            "Test accuracy 0.816\n"
          ],
          "name": "stdout"
        }
      ]
    },
    {
      "cell_type": "code",
      "metadata": {
        "id": "KcU02xWyHP9g",
        "colab": {
          "base_uri": "https://localhost:8080/",
          "height": 295
        },
        "outputId": "ced3b7f7-0278-46ae-c7c6-b8c10a4c82b9"
      },
      "source": [
        "plot_training(history.history)"
      ],
      "execution_count": 39,
      "outputs": [
        {
          "output_type": "display_data",
          "data": {
            "image/png": "[encoded data removed]",
            "text/plain": [
              "<Figure size 432x288 with 1 Axes>"
            ]
          },
          "metadata": {
            "tags": [],
            "needs_background": "light"
          }
        }
      ]
    },
    {
      "cell_type": "markdown",
      "metadata": {
        "id": "3m_gpu2JHP9g"
      },
      "source": [
        "## Salvo il modello (colab lo cancella bisogna scaricarlo)"
      ]
    },
    {
      "cell_type": "code",
      "metadata": {
        "id": "xhGhjKWMHP9h",
        "colab": {
          "base_uri": "https://localhost:8080/"
        },
        "outputId": "14a0719e-773e-45f4-cdfa-b891d7c49d7c"
      },
      "source": [
        "model.save('titanic_tf_model.h5')\n",
        "\n",
        "# Load and use saved model - we need to first set up a model\n",
        "restored_model = keras.models.load_model('titanic_tf_model.h5')\n",
        " \n",
        "# Predict classes as normal\n",
        "predicted_proba = restored_model.predict(X_test_sc)\n",
        "\n",
        "# Show examples of predicted probability\n",
        "print(predicted_proba[0:5].flatten())"
      ],
      "execution_count": 40,
      "outputs": [
        {
          "output_type": "stream",
          "text": [
            "[0.11434048 0.1556178  0.15965861 0.8417213  0.6675542 ]\n"
          ],
          "name": "stdout"
        }
      ]
    },
    {
      "cell_type": "code",
      "metadata": {
        "id": "nDPjKTf9HP9h",
        "colab": {
          "base_uri": "https://localhost:8080/"
        },
        "outputId": "95ee0065-7f29-480f-fbb0-b445da0bbb18"
      },
      "source": [
        "calculate_accuracy(restored_model, X_train_sc, X_test_sc, y_train, y_test)"
      ],
      "execution_count": 41,
      "outputs": [
        {
          "output_type": "stream",
          "text": [
            "Training accuracy 0.834\n",
            "Test accuracy 0.816\n"
          ],
          "name": "stdout"
        }
      ]
    },
    {
      "cell_type": "code",
      "metadata": {
        "id": "v3IXHJO8QPW4"
      },
      "source": [
        "sub = pd.DataFrame(columns=['PassengerId','Survived'])\n",
        "prova=pd.read_csv('https://raw.githubusercontent.com/marcosarto/titanicML/main/neural_nets/test.csv')\n",
        "passengerId=prova['PassengerId']\n",
        "probability = restored_model.predict(marcello_sc)\n",
        "y_test_pred = probability.flatten()\n",
        "y_test_pred = np.around(y_test_pred)\n",
        "y_test_pred = y_test_pred.astype(int)\n",
        "kaggle = pd.DataFrame({'PassengerId': passengerId, 'Survived': y_test_pred})\n",
        "kaggle.to_csv('Neural.csv', index=False)"
      ],
      "execution_count": 44,
      "outputs": []
    }
  ]
}