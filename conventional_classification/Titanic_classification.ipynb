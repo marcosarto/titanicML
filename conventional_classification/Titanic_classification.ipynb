{
  "nbformat": 4,
  "nbformat_minor": 0,
  "metadata": {
    "colab": {
      "name": "Titanic_classification.ipynb",
      "provenance": [],
      "collapsed_sections": [
        "YIT5vl6wxRVn",
        "VHnlgPy5xWHB",
        "OOu7PWPHxepz",
        "RKvD7_a25FI5",
        "bG2dGst8MQCJ",
        "y9T1COckMWXg",
        "tooSsm01Pi_-",
        "LA0AXS4bRg7y",
        "Ayc2bH0BxVLF",
        "5ESHB0WO51V1",
        "903Yi19I_HFA",
        "tPsEM-UbFTRd"
      ],
      "include_colab_link": true
    },
    "kernelspec": {
      "name": "python3",
      "display_name": "Python 3"
    },
    "language_info": {
      "name": "python"
    }
  },
  "cells": [
    {
      "cell_type": "markdown",
      "metadata": {
        "id": "view-in-github",
        "colab_type": "text"
      },
      "source": [
        "<a href=\"https://colab.research.google.com/github/marcosarto/titanicML/blob/main/conventional_classification/Titanic_classification.ipynb\" target=\"_parent\"><img src=\"https://colab.research.google.com/assets/colab-badge.svg\" alt=\"Open In Colab\"/></a>"
      ]
    },
    {
      "cell_type": "markdown",
      "metadata": {
        "id": "YIT5vl6wxRVn"
      },
      "source": [
        "#IMPORTS"
      ]
    },
    {
      "cell_type": "code",
      "metadata": {
        "id": "kb6VEb_GJ6QN"
      },
      "source": [
        "DROPCOLUMNS = [\"PassengerId\", \"Survived\"]\n",
        "DATAPATH = \"https://raw.githubusercontent.com/marcosarto/titanicML/main/conventional_classification/data/\"\n",
        "OUTPUT_PATH = \"sub_file/\""
      ],
      "execution_count": 1,
      "outputs": []
    },
    {
      "cell_type": "code",
      "metadata": {
        "id": "BZGi5UexJ_a-"
      },
      "source": [
        "import matplotlib.pyplot as plt\n",
        "import numpy as np\n",
        "import pandas as pd\n",
        "import seaborn as sns\n",
        "import graphviz\n",
        "import xgboost\n",
        "from numpy import random\n",
        "from sklearn.compose import ColumnTransformer\n",
        "from sklearn.impute import SimpleImputer\n",
        "from sklearn.metrics import classification_report, confusion_matrix, accuracy_score, mean_squared_error, roc_curve, plot_roc_curve, auc\n",
        "from sklearn.model_selection import (\n",
        "    GridSearchCV,\n",
        "    StratifiedKFold,\n",
        "    cross_val_score,\n",
        "    train_test_split,\n",
        ")\n",
        "from sklearn.pipeline import Pipeline\n",
        "from sklearn.preprocessing import StandardScaler\n",
        "from sklearn.tree import DecisionTreeClassifier, export_graphviz"
      ],
      "execution_count": 2,
      "outputs": []
    },
    {
      "cell_type": "code",
      "metadata": {
        "id": "W9ZS_K3ADDJK",
        "colab": {
          "base_uri": "https://localhost:8080/"
        },
        "outputId": "d1bd0dd2-85d4-4109-ad4a-c232df6f57e9"
      },
      "source": [
        "from sklearn.ensemble import RandomForestClassifier, VotingClassifier, BaggingClassifier, AdaBoostClassifier, GradientBoostingRegressor\n",
        "from sklearn.ensemble.gradient_boosting import GradientBoostingClassifier\n",
        "from sklearn.feature_selection import SelectKBest\n",
        "from sklearn.feature_selection import SelectFromModel\n",
        "from sklearn.linear_model import LogisticRegression, LogisticRegressionCV\n",
        "from sklearn.svm import SVC\n",
        "from sklearn.tree import DecisionTreeRegressor"
      ],
      "execution_count": 3,
      "outputs": [
        {
          "output_type": "stream",
          "text": [
            "/usr/local/lib/python3.7/dist-packages/sklearn/utils/deprecation.py:144: FutureWarning: The sklearn.ensemble.gradient_boosting module is  deprecated in version 0.22 and will be removed in version 0.24. The corresponding classes / functions should instead be imported from sklearn.ensemble. Anything that cannot be imported from sklearn.ensemble is now part of the private API.\n",
            "  warnings.warn(message, FutureWarning)\n"
          ],
          "name": "stderr"
        }
      ]
    },
    {
      "cell_type": "code",
      "metadata": {
        "id": "8qnOyK8yP6vS"
      },
      "source": [
        "import tensorflow as tf\n",
        "from tensorflow.keras.layers import Dense\n",
        "from tensorflow.keras.models import Sequential"
      ],
      "execution_count": 4,
      "outputs": []
    },
    {
      "cell_type": "code",
      "metadata": {
        "colab": {
          "base_uri": "https://localhost:8080/",
          "height": 205
        },
        "id": "aEU7Y3tcKCKH",
        "outputId": "ca043a19-c756-4e17-c460-57ba2fd2395b"
      },
      "source": [
        "data_train = pd.read_csv(DATAPATH + 'train.csv')\n",
        "data_test = pd.read_csv(DATAPATH + 'test.csv')\n",
        "data_train.head()"
      ],
      "execution_count": 5,
      "outputs": [
        {
          "output_type": "execute_result",
          "data": {
            "text/html": [
              "<div>\n",
              "<style scoped>\n",
              "    .dataframe tbody tr th:only-of-type {\n",
              "        vertical-align: middle;\n",
              "    }\n",
              "\n",
              "    .dataframe tbody tr th {\n",
              "        vertical-align: top;\n",
              "    }\n",
              "\n",
              "    .dataframe thead th {\n",
              "        text-align: right;\n",
              "    }\n",
              "</style>\n",
              "<table border=\"1\" class=\"dataframe\">\n",
              "  <thead>\n",
              "    <tr style=\"text-align: right;\">\n",
              "      <th></th>\n",
              "      <th>PassengerId</th>\n",
              "      <th>Survived</th>\n",
              "      <th>Pclass</th>\n",
              "      <th>Name</th>\n",
              "      <th>Sex</th>\n",
              "      <th>Age</th>\n",
              "      <th>SibSp</th>\n",
              "      <th>Parch</th>\n",
              "      <th>Ticket</th>\n",
              "      <th>Fare</th>\n",
              "      <th>Cabin</th>\n",
              "      <th>Embarked</th>\n",
              "    </tr>\n",
              "  </thead>\n",
              "  <tbody>\n",
              "    <tr>\n",
              "      <th>0</th>\n",
              "      <td>1</td>\n",
              "      <td>0</td>\n",
              "      <td>3</td>\n",
              "      <td>Braund, Mr. Owen Harris</td>\n",
              "      <td>male</td>\n",
              "      <td>22.0</td>\n",
              "      <td>1</td>\n",
              "      <td>0</td>\n",
              "      <td>A/5 21171</td>\n",
              "      <td>7.2500</td>\n",
              "      <td>NaN</td>\n",
              "      <td>S</td>\n",
              "    </tr>\n",
              "    <tr>\n",
              "      <th>1</th>\n",
              "      <td>2</td>\n",
              "      <td>1</td>\n",
              "      <td>1</td>\n",
              "      <td>Cumings, Mrs. John Bradley (Florence Briggs Th...</td>\n",
              "      <td>female</td>\n",
              "      <td>38.0</td>\n",
              "      <td>1</td>\n",
              "      <td>0</td>\n",
              "      <td>PC 17599</td>\n",
              "      <td>71.2833</td>\n",
              "      <td>C85</td>\n",
              "      <td>C</td>\n",
              "    </tr>\n",
              "    <tr>\n",
              "      <th>2</th>\n",
              "      <td>3</td>\n",
              "      <td>1</td>\n",
              "      <td>3</td>\n",
              "      <td>Heikkinen, Miss. Laina</td>\n",
              "      <td>female</td>\n",
              "      <td>26.0</td>\n",
              "      <td>0</td>\n",
              "      <td>0</td>\n",
              "      <td>STON/O2. 3101282</td>\n",
              "      <td>7.9250</td>\n",
              "      <td>NaN</td>\n",
              "      <td>S</td>\n",
              "    </tr>\n",
              "    <tr>\n",
              "      <th>3</th>\n",
              "      <td>4</td>\n",
              "      <td>1</td>\n",
              "      <td>1</td>\n",
              "      <td>Futrelle, Mrs. Jacques Heath (Lily May Peel)</td>\n",
              "      <td>female</td>\n",
              "      <td>35.0</td>\n",
              "      <td>1</td>\n",
              "      <td>0</td>\n",
              "      <td>113803</td>\n",
              "      <td>53.1000</td>\n",
              "      <td>C123</td>\n",
              "      <td>S</td>\n",
              "    </tr>\n",
              "    <tr>\n",
              "      <th>4</th>\n",
              "      <td>5</td>\n",
              "      <td>0</td>\n",
              "      <td>3</td>\n",
              "      <td>Allen, Mr. William Henry</td>\n",
              "      <td>male</td>\n",
              "      <td>35.0</td>\n",
              "      <td>0</td>\n",
              "      <td>0</td>\n",
              "      <td>373450</td>\n",
              "      <td>8.0500</td>\n",
              "      <td>NaN</td>\n",
              "      <td>S</td>\n",
              "    </tr>\n",
              "  </tbody>\n",
              "</table>\n",
              "</div>"
            ],
            "text/plain": [
              "   PassengerId  Survived  Pclass  ...     Fare Cabin  Embarked\n",
              "0            1         0       3  ...   7.2500   NaN         S\n",
              "1            2         1       1  ...  71.2833   C85         C\n",
              "2            3         1       3  ...   7.9250   NaN         S\n",
              "3            4         1       1  ...  53.1000  C123         S\n",
              "4            5         0       3  ...   8.0500   NaN         S\n",
              "\n",
              "[5 rows x 12 columns]"
            ]
          },
          "metadata": {
            "tags": []
          },
          "execution_count": 5
        }
      ]
    },
    {
      "cell_type": "markdown",
      "metadata": {
        "id": "VHnlgPy5xWHB"
      },
      "source": [
        "#EDA"
      ]
    },
    {
      "cell_type": "markdown",
      "metadata": {
        "id": "a0QH-f-oBlzO"
      },
      "source": [
        "Matrice di correlazione dei dati numerici"
      ]
    },
    {
      "cell_type": "code",
      "metadata": {
        "colab": {
          "base_uri": "https://localhost:8080/",
          "height": 0
        },
        "id": "JPFsL1OhBpIy",
        "outputId": "4bfb01c3-d0bc-4f61-8c12-73ddfe7429aa"
      },
      "source": [
        " g = sns.heatmap(data_train[[\"Survived\",\"SibSp\",\"Parch\",\"Age\",\"Fare\"]].corr(),annot=True, cmap = \"coolwarm\")"
      ],
      "execution_count": 6,
      "outputs": [
        {
          "output_type": "display_data",
          "data": {
            "image/png": "[encoded data removed]",
            "text/plain": [
              "<Figure size 432x288 with 2 Axes>"
            ]
          },
          "metadata": {
            "tags": [],
            "needs_background": "light"
          }
        }
      ]
    },
    {
      "cell_type": "markdown",
      "metadata": {
        "id": "T8jr14UhKNee"
      },
      "source": [
        "Sopravvivenza maschio/femmina"
      ]
    },
    {
      "cell_type": "code",
      "metadata": {
        "colab": {
          "base_uri": "https://localhost:8080/"
        },
        "id": "QEcxKAV5KPwn",
        "outputId": "bd61b221-7e67-4d08-fc7c-08d97de5748d"
      },
      "source": [
        "femmine_vissute=0\n",
        "maschi_vissuti=0\n",
        "femmine_totali=0\n",
        "maschi_totali=0\n",
        "\n",
        "for index, row in data_train.iterrows():\n",
        "  if row['Sex']=='male':\n",
        "    if row['Survived']==1:\n",
        "      maschi_vissuti+=1\n",
        "    maschi_totali+=1\n",
        "  else:\n",
        "    if row['Survived']==1:\n",
        "      femmine_vissute+=1\n",
        "    femmine_totali+=1\n",
        "\n",
        "femmine_morte=femmine_totali-femmine_vissute\n",
        "maschi_morti=maschi_totali-maschi_vissuti\n",
        "print ('Ratio di sopravvivenza femminile: ', float(femmine_vissute) / float(femmine_totali))\n",
        "print ('Ratio di sopravvivenza maschile: ', float(maschi_vissuti) / float(maschi_totali))"
      ],
      "execution_count": 7,
      "outputs": [
        {
          "output_type": "stream",
          "text": [
            "Ratio di sopravvivenza femminile:  0.7420382165605095\n",
            "Ratio di sopravvivenza maschile:  0.18890814558058924\n"
          ],
          "name": "stdout"
        }
      ]
    },
    {
      "cell_type": "code",
      "metadata": {
        "colab": {
          "base_uri": "https://localhost:8080/",
          "height": 0
        },
        "id": "X1y-6IaTiNqE",
        "outputId": "c2482d4d-34d7-415b-d3f4-6ad069c339a8"
      },
      "source": [
        "N = 2\n",
        "women_data = (femmine_vissute, femmine_morte)\n",
        "men_data = (maschi_vissuti, maschi_morti)\n",
        "indice = np.arange(N)  #asse-x\n",
        "width = 0.40       # larghezza\n",
        "\n",
        "p1 = plt.bar(indice, men_data, width, facecolor='#b3dfff', edgecolor='gray', align='center')\n",
        "p2 = plt.bar(indice, women_data, width, facecolor='#ffd9ea',edgecolor='gray', bottom=men_data, align='center')\n",
        "\n",
        "plt.ylabel('# di persone')\n",
        "plt.xticks(indice , ('Sopravvissuti', 'Non sopravvissuti'))\n",
        "plt.legend((p1[0], p2[0]), ('Uomini', 'Donne'), loc=\"upper left\")\n",
        "plt.show()\n",
        "\n",
        "N = 2\n",
        "vissuti = (femmine_vissute, maschi_vissuti)\n",
        "morti = (femmine_morte, maschi_morti)\n",
        "ind = np.arange(N)    \n",
        "width = 0.40       \n",
        "\n",
        "p1 = plt.bar(indice, vissuti, width, facecolor='#d3ffd1', edgecolor='gray', align='center')\n",
        "p2 = plt.bar(indice, morti, width, facecolor='#ffd6d1', edgecolor='gray', bottom=vissuti, align='center')\n",
        "\n",
        "plt.ylabel('# di persone')\n",
        "plt.xticks(ind, ('Donne', 'Uomini'))\n",
        "plt.legend((p1[0], p2[0]), ('Sopravvissuti', 'Non sopravvissuti'), loc=\"upper left\")\n",
        "plt.show()"
      ],
      "execution_count": 8,
      "outputs": [
        {
          "output_type": "display_data",
          "data": {
            "image/png": "[encoded data removed]",
            "text/plain": [
              "<Figure size 432x288 with 1 Axes>"
            ]
          },
          "metadata": {
            "tags": [],
            "needs_background": "light"
          }
        },
        {
          "output_type": "display_data",
          "data": {
            "image/png": "[encoded data removed]",
            "text/plain": [
              "<Figure size 432x288 with 1 Axes>"
            ]
          },
          "metadata": {
            "tags": [],
            "needs_background": "light"
          }
        }
      ]
    },
    {
      "cell_type": "markdown",
      "metadata": {
        "id": "1nrqYVBI-AZc"
      },
      "source": [
        "Sembra esserci una percentuale di sopravvivenza molto piu' alta per le donne rispetto agli uomini (74,2% rispetto a 18.9%).\n",
        "Abbiamo individuato due possibili ragioni :\n",
        "1)\"Prima donne e bambini\" e' una strategia reale per l'evaquazione delle barche e puo' aver permesso a quest'ultimi di prendere posto sulle scialuppe di salvataggio in maggior quantita'.\n",
        "2) Una piu' grande percentuale delle donne era in possesso di biglietti di prima e seconda classe (che potrebbero risultare in una possibilita' di sopravvivenza maggiore).\n",
        "\n",
        "Fatte queste assunzioni andiamo a vedere se si verificano indagando la percentuale di sopravvivenza rispetto alla classe del biglietto\n",
        "\n"
      ]
    },
    {
      "cell_type": "code",
      "metadata": {
        "id": "9TQcOdkh_DpN",
        "colab": {
          "base_uri": "https://localhost:8080/"
        },
        "outputId": "95f00f5b-d2bd-4016-db6b-208897a6ec8b"
      },
      "source": [
        "prima_classe=0\n",
        "seconda_classe=0\n",
        "terza_classe=0\n",
        "\n",
        "for index, row in data_train.iterrows():\n",
        "  if row['Pclass']==1:\n",
        "    prima_classe+=1\n",
        "  elif row['Pclass']==2:\n",
        "    seconda_classe+=1\n",
        "  elif row['Pclass']==3:\n",
        "    terza_classe+=1\n",
        "\n",
        "#Controllo di non aver perso dati (controllo che la somma passeggeri, numero classi sia uguale):\n",
        "print (\"Prima classe: \", prima_classe, \" Seconda classe: \", seconda_classe, \" Terza classe: \", terza_classe)\n",
        "print (\"Il numero totale di passeggeri e' (891 se corretto): \", prima_classe + seconda_classe + terza_classe)"
      ],
      "execution_count": 9,
      "outputs": [
        {
          "output_type": "stream",
          "text": [
            "Prima classe:  216  Seconda classe:  184  Terza classe:  491\n",
            "Il numero totale di passeggeri e' (891 se corretto):  891\n"
          ],
          "name": "stdout"
        }
      ]
    },
    {
      "cell_type": "code",
      "metadata": {
        "colab": {
          "base_uri": "https://localhost:8080/"
        },
        "id": "U-3EyQVUrUMi",
        "outputId": "4ab9f4c2-1eb2-4998-c2e4-7136e23cdeae"
      },
      "source": [
        "def contaSopravvissuti(pclass):\n",
        "  tot_vissuti=0\n",
        "  for index, row in data_train.iterrows():\n",
        "    if row['Survived']==1:\n",
        "      if row['Pclass']==pclass:\n",
        "        tot_vissuti+=1\n",
        "  return tot_vissuti\n",
        "\n",
        "prima_classe_sopravvissuti = contaSopravvissuti(1)\n",
        "seconda_classe_sopravvissuti = contaSopravvissuti(2)\n",
        "terza_classe_sopravvissuti = contaSopravvissuti(3)\n",
        "\n",
        "ratio_prima_classe_sopravvissuti = float(prima_classe_sopravvissuti) / float(prima_classe)\n",
        "ratio_seconda_classe_sopravvissuti = float(seconda_classe_sopravvissuti) / float(seconda_classe)\n",
        "ratio_terza_classe_sopravvissuti = float(terza_classe_sopravvissuti) / float(terza_classe)\n",
        "\n",
        "# Note: use %s (and not %d) to show decimal places in survival rates\n",
        "print (\"Sopravvissuti in prima classe : %s con un ratio : %s\" % (prima_classe_sopravvissuti, float(ratio_prima_classe_sopravvissuti)))\n",
        "print (\"Sopravvissuti in seconda classe : %s con un ratio : %s\" % (seconda_classe_sopravvissuti, float(ratio_seconda_classe_sopravvissuti)))\n",
        "print (\"Sopravvissuti in terza classe : %s con un ratio : %s\" % (terza_classe_sopravvissuti, float(ratio_terza_classe_sopravvissuti)))"
      ],
      "execution_count": 10,
      "outputs": [
        {
          "output_type": "stream",
          "text": [
            "Sopravvissuti in prima classe : 136 con un ratio : 0.6296296296296297\n",
            "Sopravvissuti in seconda classe : 87 con un ratio : 0.47282608695652173\n",
            "Sopravvissuti in terza classe : 119 con un ratio : 0.24236252545824846\n"
          ],
          "name": "stdout"
        }
      ]
    },
    {
      "cell_type": "code",
      "metadata": {
        "colab": {
          "base_uri": "https://localhost:8080/",
          "height": 0
        },
        "id": "SmQyn2evy2_G",
        "outputId": "c0aeea42-6f81-4141-f613-7156f04339ea"
      },
      "source": [
        "fig, (axis1,axis2) = plt.subplots(1,2,sharex=True,figsize=(10,5))\n",
        "\n",
        "# Primo grafico sopravvissuti assoluti\n",
        "sns.countplot(x='Pclass', data=data_train, order=[1,2,3], ax=axis1, palette=\"pastel\", edgecolor=\"gray\")\n",
        "\n",
        "# Secondo con ratio\n",
        "pclass_ratio = data_train[[\"Pclass\", \"Survived\"]].groupby(['Pclass'],as_index=False).mean()\n",
        "# Plot the total number of passengers per class\n",
        "sns.barplot(x=\"Pclass\", y=\"Survived\", data=pclass_ratio, label=\"Totale # di passeggeri\", order=[1,2,3], ax=axis2, palette=\"pastel\", edgecolor=\"gray\");"
      ],
      "execution_count": 11,
      "outputs": [
        {
          "output_type": "display_data",
          "data": {
            "image/png": "[encoded data removed]",
            "text/plain": [
              "<Figure size 720x360 with 2 Axes>"
            ]
          },
          "metadata": {
            "tags": [],
            "needs_background": "light"
          }
        }
      ]
    },
    {
      "cell_type": "markdown",
      "metadata": {
        "id": "Rdfnc2cDfdYi"
      },
      "source": [
        "Analizziamo ora l'eta' dei passeggeri, e come questo ha impattato la sopravvivenza"
      ]
    },
    {
      "cell_type": "code",
      "metadata": {
        "colab": {
          "base_uri": "https://localhost:8080/",
          "height": 0
        },
        "id": "qrUW_BweJNj-",
        "outputId": "e7da6ce8-6e3e-477c-ed67-a07da9c48186"
      },
      "source": [
        "import math\n",
        "\n",
        "morti_eta=list(range(81))\n",
        "morti_eta[0:81]=[0]*81\n",
        "eta=list(range(81))\n",
        "eta[0:81]=[0]*81\n",
        "\n",
        "for index,row in data_train.iterrows():\n",
        "  if not math.isnan(row['Age']):\n",
        "    eta[int(row['Age'])]+=1\n",
        "  if row['Survived']==0:\n",
        "    if not math.isnan(row['Age']):\n",
        "      morti_eta[int(row['Age'])]+=1\n",
        "\n",
        "#for x in range(len(morti_eta)):\n",
        "#  if eta[x]==0 :\n",
        "#    morti_eta[x]=0\n",
        "#  else :\n",
        "#    morti_eta[x]=float(morti_eta[x])/float(eta[x])\n",
        "\n",
        "#plt.hist([eta, morti_eta], bins = 80, alpha = 1)\n",
        "#lt.show()\n",
        "\n",
        "#fig, (axis1,axis2) = plt.subplots(1,1,sharex=True,figsize=(15,7))\n",
        "sns.violinplot(x='Sex', y='Age', hue='Survived', data=data_train, split=True, palette={0: \"#ffd6d1\", 1: \"#d3ffd1\"});\n",
        "\n",
        "#p1=plt.plot(list(range(81)), morti_eta, 'ro')\n",
        "#p2=plt.plot(list(range(81)), eta, 'bo')\n",
        "#plt.axis([0,80,0,35])\n",
        "#plt.legend((p1[0], p2[0]), ('morti', 'totali'), loc=\"upper left\")\n",
        "#plt.show()"
      ],
      "execution_count": 12,
      "outputs": [
        {
          "output_type": "display_data",
          "data": {
            "image/png": "[encoded data removed]",
            "text/plain": [
              "<Figure size 432x288 with 1 Axes>"
            ]
          },
          "metadata": {
            "tags": [],
            "needs_background": "light"
          }
        }
      ]
    },
    {
      "cell_type": "markdown",
      "metadata": {
        "id": "IsJSkSMkRgmK"
      },
      "source": [
        "Il maggior numero di uomini morti era di mezz'eta', questo puo' essere per il discorso di prima del salvare donne e bambini (maschi e femmine). Controlliamo se l'essere parte di una famiglia ha impattato la sopravvivenza"
      ]
    },
    {
      "cell_type": "code",
      "metadata": {
        "colab": {
          "base_uri": "https://localhost:8080/",
          "height": 0
        },
        "id": "RXtqlWeLhgC4",
        "outputId": "d0ebcd7a-ee37-4d84-d89f-186799150dfa"
      },
      "source": [
        "# Creo una nuova feature con il nome 'Family'\n",
        "data_train['Family'] =  data_train['Parch'] + data_train['SibSp']\n",
        "data_test['Family'] =  data_test['Parch'] + data_test['SibSp']\n",
        "\n",
        "# La feature puo' essere riassunta con ha famiglia e non ha famiglia\n",
        "# Il problema distingue il tipo di parentela ma per ora noi consideriamo tutto allo stesso modo\n",
        "data_train.loc[data_train['Family'] >= 1, 'Family'] = 1\n",
        "data_train.loc[data_train['Family'] == 0, 'Family'] = 0\n",
        "data_test.loc[data_test['Family'] >= 1, 'Family'] = 1\n",
        "data_test.loc[data_test['Family'] == 0, 'Family'] = 0\n",
        "# Converto il tipo, questo rende la variabile disponibile per la heatmap volendo\n",
        "data_train['Family'] = data_train['Family'].astype(int)\n",
        "data_test['Family'] = data_test['Family'].astype(int)\n",
        "\n",
        "fig, (axis1,axis2) = plt.subplots(1,2,sharex=True,figsize=(10,5))\n",
        "\n",
        "# Primo grafo sommo quanti avevano famiglia o parentela come dir si voglia\n",
        "sns.countplot(x='Family', data=data_train, order=[1,0], ax=axis1, palette=\"pastel\", edgecolor=\"gray\");\n",
        "\n",
        "# Ratio di sopravvivenza per chi aveva famiglia e chi no\n",
        "sopravvivenza_con_famiglia = data_train[[\"Family\", \"Survived\"]].groupby(['Family'],as_index=False).mean()\n",
        "sns.barplot(x=\"Family\", y=\"Survived\", data=sopravvivenza_con_famiglia, order=[1,0], ax=axis2, palette=\"pastel\", edgecolor=\"gray\");\n",
        "axis1.set_xticklabels([\"Famiglia\",\"Senza parenti\"], rotation=0);"
      ],
      "execution_count": 13,
      "outputs": [
        {
          "output_type": "display_data",
          "data": {
            "image/png": "[encoded data removed]",
            "text/plain": [
              "<Figure size 720x360 with 2 Axes>"
            ]
          },
          "metadata": {
            "tags": [],
            "needs_background": "light"
          }
        }
      ]
    },
    {
      "cell_type": "markdown",
      "metadata": {
        "id": "uC6UBMopwrcz"
      },
      "source": [
        "Nonostante possa sembrare evidente il collegamento famiglia -> maggiore sopravvivenza, la metrica potrebbe essere semplicemente un prolungamento della scoperta fatta a priori che donne e bambini sono stati quelli evaquati prima.\n",
        "Per controllare se era l'avere una famiglia il fattore determinante controlliamo il ratio di uomini adulti con e senza famiglia"
      ]
    },
    {
      "cell_type": "code",
      "metadata": {
        "colab": {
          "base_uri": "https://localhost:8080/"
        },
        "id": "OPT1g4J3xAee",
        "outputId": "cb02597e-df75-4c70-ce81-f9aa4ea202d0"
      },
      "source": [
        "#SERVE CHE VENGA CAMBIATA LA FEATURE SEX FA QUALITATIVO A QUANTITATIVO\n",
        "\n",
        "uomini_soli = 0\n",
        "uomini_famiglia = 0\n",
        "uomini_soli_1 = 0\n",
        "uomini_famiglia_1 = 0\n",
        "\n",
        "for index, row in data_train.iterrows():\n",
        "    if row['Sex'] == 'male' and row['Family'] == 0 and row['Age'] >= 18:\n",
        "        uomini_soli += 1\n",
        "        if row['Survived'] == 1:\n",
        "            uomini_soli_1 += 1\n",
        "    if row['Sex'] == 'male' and row['Family'] == 1 and row['Age'] >= 18:\n",
        "        uomini_famiglia += 1\n",
        "        if row['Survived'] == 1:\n",
        "            uomini_famiglia_1 += 1\n",
        "\n",
        "print (\"Nuomero uomini soli : %s , numero uomini con famiglia : %s \" % (uomini_soli, uomini_famiglia))\n",
        "print (\"---------\")\n",
        "\n",
        "# Ratio\n",
        "print ('Sopravvivenza uomini soli : ', float(uomini_soli_1) / float(uomini_soli))\n",
        "print ('Sopravvivenza uomini con famiglia : ', float(uomini_famiglia_1) / float(uomini_famiglia))"
      ],
      "execution_count": 14,
      "outputs": [
        {
          "output_type": "stream",
          "text": [
            "Nuomero uomini soli : 292 , numero uomini con famiglia : 103 \n",
            "---------\n",
            "Sopravvivenza uomini soli :  0.17123287671232876\n",
            "Sopravvivenza uomini con famiglia :  0.1941747572815534\n"
          ],
          "name": "stdout"
        }
      ]
    },
    {
      "cell_type": "markdown",
      "metadata": {
        "id": "7EGxfXe7JAvb"
      },
      "source": [
        "Non sembra esserci correlazione evidente "
      ]
    },
    {
      "cell_type": "markdown",
      "metadata": {
        "id": "5m5xZcxBRDJQ"
      },
      "source": [
        "Controlliamo se il sito di imbarco ha determinanza sul target"
      ]
    },
    {
      "cell_type": "code",
      "metadata": {
        "colab": {
          "base_uri": "https://localhost:8080/",
          "height": 0
        },
        "id": "ywE_nZBRZLy1",
        "outputId": "589767ba-522d-4135-d13e-c72662c2d117"
      },
      "source": [
        "fig, ax = plt.subplots(1, 2, figsize = (18, 8))\n",
        "data_train[\"Embarked\"].value_counts().plot.bar(color = \"#c3ffb3\", ax = ax[0], edgecolor=\"gray\")\n",
        "ax[0].set_title(\"Numero di passeggeri per piattaforma inbarco\")\n",
        "ax[0].set_ylabel(\"Numbero assoluto\")\n",
        "sns.countplot(\"Embarked\", hue = \"Survived\", data = data_train, ax = ax[1], palette=\"pastel\", edgecolor=\"gray\")\n",
        "ax[1].set_title(\"Sopravvissuti (1) non sopravvissuti (0)\")\n",
        "plt.show()"
      ],
      "execution_count": 15,
      "outputs": [
        {
          "output_type": "stream",
          "text": [
            "/usr/local/lib/python3.7/dist-packages/seaborn/_decorators.py:43: FutureWarning: Pass the following variable as a keyword arg: x. From version 0.12, the only valid positional argument will be `data`, and passing other arguments without an explicit keyword will result in an error or misinterpretation.\n",
            "  FutureWarning\n"
          ],
          "name": "stderr"
        },
        {
          "output_type": "display_data",
          "data": {
            "image/png": "[encoded data removed]",
            "text/plain": [
              "<Figure size 1296x576 with 2 Axes>"
            ]
          },
          "metadata": {
            "tags": [],
            "needs_background": "light"
          }
        }
      ]
    },
    {
      "cell_type": "code",
      "metadata": {
        "colab": {
          "base_uri": "https://localhost:8080/",
          "height": 0
        },
        "id": "6wzsRIqklLC_",
        "outputId": "cbd12343-2813-49ad-8baa-57f7b303c92a"
      },
      "source": [
        "S_fare = data_train[data_train.Embarked=='S'].Fare.mean()\n",
        "C_fare = data_train[data_train.Embarked=='C'].Fare.mean()\n",
        "Q_fare = data_train[data_train.Embarked=='Q'].Fare.mean()\n",
        "plt.bar(x='S', height=S_fare, facecolor='#ffd0b0', edgecolor='gray', align='center')\n",
        "plt.bar(x='C', height=C_fare, facecolor='#b3dfff', edgecolor='gray', align='center')\n",
        "plt.bar(x='Q', height=Q_fare, facecolor='#ffd9fe', edgecolor='gray', align='center')\n",
        "plt.ylabel('Fare')\n",
        "plt.xlabel('Embarked')\n",
        "plt.legend((\"S Fare mean\",\"C Fare mean\",\"Q Fare mean\"),loc=\"upper left\")\n",
        "plt.show()"
      ],
      "execution_count": 16,
      "outputs": [
        {
          "output_type": "display_data",
          "data": {
            "image/png": "[encoded data removed]",
            "text/plain": [
              "<Figure size 432x288 with 1 Axes>"
            ]
          },
          "metadata": {
            "tags": [],
            "needs_background": "light"
          }
        }
      ]
    },
    {
      "cell_type": "code",
      "metadata": {
        "colab": {
          "base_uri": "https://localhost:8080/",
          "height": 0
        },
        "id": "asoXKmifRQVj",
        "outputId": "3db4daeb-c055-49d8-898a-0f61935ddf1b"
      },
      "source": [
        "fig, (axis1,axis2) = plt.subplots(1,2,sharex=True,figsize=(15,7))\n",
        "sns.violinplot(x='Embarked', y='Pclass', hue='Survived', data=data_train, split=True, palette={0: \"#c3ffb3\", 1: \"#ffe6b3\"}, ax=axis1)\n",
        "sns.violinplot(x='Embarked', y='Fare', hue='Survived', data=data_train, split=True, palette={0: \"#c3ffb3\", 1: \"#ffe6b3\"}, ax=axis2)"
      ],
      "execution_count": 17,
      "outputs": [
        {
          "output_type": "execute_result",
          "data": {
            "text/plain": [
              "<matplotlib.axes._subplots.AxesSubplot at 0x7f7967a7b310>"
            ]
          },
          "metadata": {
            "tags": []
          },
          "execution_count": 17
        },
        {
          "output_type": "display_data",
          "data": {
            "image/png": "[encoded data removed]",
            "text/plain": [
              "<Figure size 1080x504 with 2 Axes>"
            ]
          },
          "metadata": {
            "tags": [],
            "needs_background": "light"
          }
        }
      ]
    },
    {
      "cell_type": "markdown",
      "metadata": {
        "id": "d5kcfQ0eZngr"
      },
      "source": [
        "Sembrerebbe che una sopravvivenza maggiore nell'imbarco C sia da attribuire al costo del biglietto piu' che all'imbarco effettivo. (In maniera minore si puo' vedere anche in S)"
      ]
    },
    {
      "cell_type": "code",
      "metadata": {
        "colab": {
          "base_uri": "https://localhost:8080/",
          "height": 0
        },
        "id": "xBbPBzqBSd90",
        "outputId": "2f17783e-5346-41f9-f64c-0df8ef670fdd"
      },
      "source": [
        "plt.figure(figsize=(3,4))\n",
        "plt.scatter(data_train['Pclass'],data_train['Fare'], color=\"#75ff7c\", edgecolors=\"#009e08\")\n",
        "plt.xticks(range(1,4))\n",
        "plt.ylabel('Fare')\n",
        "plt.xlabel('Pclass')\n",
        "plt.show()\n",
        "#Cancello il valore in alto a sinistra, sembra outlier\n",
        "#data_train.Fare.loc[data_train['Fare'] > 400] = np.nan\n",
        "#plt.show()"
      ],
      "execution_count": 18,
      "outputs": [
        {
          "output_type": "display_data",
          "data": {
            "image/png": "[encoded data removed]",
            "text/plain": [
              "<Figure size 216x288 with 1 Axes>"
            ]
          },
          "metadata": {
            "tags": [],
            "needs_background": "light"
          }
        }
      ]
    },
    {
      "cell_type": "code",
      "metadata": {
        "colab": {
          "base_uri": "https://localhost:8080/",
          "height": 0
        },
        "id": "GnZu1uW_prTl",
        "outputId": "0ddfa00f-b372-487f-e80e-78947c303417"
      },
      "source": [
        "plt.figure(figsize=(3,4))\n",
        "plt.scatter(data_train['Pclass'],data_train['Age'], color=\"#b8e6ff\", edgecolors=\"#00a6ff\")\n",
        "plt.xticks(range(1,4))\n",
        "plt.ylabel('Age')\n",
        "plt.xlabel('Pclass')\n",
        "plt.show()"
      ],
      "execution_count": 19,
      "outputs": [
        {
          "output_type": "display_data",
          "data": {
            "image/png": "[encoded data removed]",
            "text/plain": [
              "<Figure size 216x288 with 1 Axes>"
            ]
          },
          "metadata": {
            "tags": [],
            "needs_background": "light"
          }
        }
      ]
    },
    {
      "cell_type": "markdown",
      "metadata": {
        "id": "OOu7PWPHxepz"
      },
      "source": [
        "#FEATURE ENGINEERING"
      ]
    },
    {
      "cell_type": "markdown",
      "metadata": {
        "id": "T2DhHzVMahQ5"
      },
      "source": [
        "Fill valori"
      ]
    },
    {
      "cell_type": "code",
      "metadata": {
        "id": "XXNDJD4m0Xg4",
        "colab": {
          "base_uri": "https://localhost:8080/",
          "height": 0
        },
        "outputId": "4c26885e-3a8a-41d3-a116-8f4921de500e"
      },
      "source": [
        "# Estraggo il target per poi rimuoverlo che non e' presente nel test\n",
        "targets = data_train.Survived\n",
        "data_train.drop(['Survived'], 1, inplace=True)\n",
        "    \n",
        "# Unisco train e test, inoltre droppo PassengerId perche' non e' utile\n",
        "combined = data_train.append(data_test)\n",
        "combined.reset_index(inplace=True)\n",
        "combined.drop(['index', 'PassengerId'], inplace=True, axis=1)\n",
        "combined.head()"
      ],
      "execution_count": 20,
      "outputs": [
        {
          "output_type": "execute_result",
          "data": {
            "text/html": [
              "<div>\n",
              "<style scoped>\n",
              "    .dataframe tbody tr th:only-of-type {\n",
              "        vertical-align: middle;\n",
              "    }\n",
              "\n",
              "    .dataframe tbody tr th {\n",
              "        vertical-align: top;\n",
              "    }\n",
              "\n",
              "    .dataframe thead th {\n",
              "        text-align: right;\n",
              "    }\n",
              "</style>\n",
              "<table border=\"1\" class=\"dataframe\">\n",
              "  <thead>\n",
              "    <tr style=\"text-align: right;\">\n",
              "      <th></th>\n",
              "      <th>Pclass</th>\n",
              "      <th>Name</th>\n",
              "      <th>Sex</th>\n",
              "      <th>Age</th>\n",
              "      <th>SibSp</th>\n",
              "      <th>Parch</th>\n",
              "      <th>Ticket</th>\n",
              "      <th>Fare</th>\n",
              "      <th>Cabin</th>\n",
              "      <th>Embarked</th>\n",
              "      <th>Family</th>\n",
              "    </tr>\n",
              "  </thead>\n",
              "  <tbody>\n",
              "    <tr>\n",
              "      <th>0</th>\n",
              "      <td>3</td>\n",
              "      <td>Braund, Mr. Owen Harris</td>\n",
              "      <td>male</td>\n",
              "      <td>22.0</td>\n",
              "      <td>1</td>\n",
              "      <td>0</td>\n",
              "      <td>A/5 21171</td>\n",
              "      <td>7.2500</td>\n",
              "      <td>NaN</td>\n",
              "      <td>S</td>\n",
              "      <td>1</td>\n",
              "    </tr>\n",
              "    <tr>\n",
              "      <th>1</th>\n",
              "      <td>1</td>\n",
              "      <td>Cumings, Mrs. John Bradley (Florence Briggs Th...</td>\n",
              "      <td>female</td>\n",
              "      <td>38.0</td>\n",
              "      <td>1</td>\n",
              "      <td>0</td>\n",
              "      <td>PC 17599</td>\n",
              "      <td>71.2833</td>\n",
              "      <td>C85</td>\n",
              "      <td>C</td>\n",
              "      <td>1</td>\n",
              "    </tr>\n",
              "    <tr>\n",
              "      <th>2</th>\n",
              "      <td>3</td>\n",
              "      <td>Heikkinen, Miss. Laina</td>\n",
              "      <td>female</td>\n",
              "      <td>26.0</td>\n",
              "      <td>0</td>\n",
              "      <td>0</td>\n",
              "      <td>STON/O2. 3101282</td>\n",
              "      <td>7.9250</td>\n",
              "      <td>NaN</td>\n",
              "      <td>S</td>\n",
              "      <td>0</td>\n",
              "    </tr>\n",
              "    <tr>\n",
              "      <th>3</th>\n",
              "      <td>1</td>\n",
              "      <td>Futrelle, Mrs. Jacques Heath (Lily May Peel)</td>\n",
              "      <td>female</td>\n",
              "      <td>35.0</td>\n",
              "      <td>1</td>\n",
              "      <td>0</td>\n",
              "      <td>113803</td>\n",
              "      <td>53.1000</td>\n",
              "      <td>C123</td>\n",
              "      <td>S</td>\n",
              "      <td>1</td>\n",
              "    </tr>\n",
              "    <tr>\n",
              "      <th>4</th>\n",
              "      <td>3</td>\n",
              "      <td>Allen, Mr. William Henry</td>\n",
              "      <td>male</td>\n",
              "      <td>35.0</td>\n",
              "      <td>0</td>\n",
              "      <td>0</td>\n",
              "      <td>373450</td>\n",
              "      <td>8.0500</td>\n",
              "      <td>NaN</td>\n",
              "      <td>S</td>\n",
              "      <td>0</td>\n",
              "    </tr>\n",
              "  </tbody>\n",
              "</table>\n",
              "</div>"
            ],
            "text/plain": [
              "   Pclass                                               Name  ... Embarked  Family\n",
              "0       3                            Braund, Mr. Owen Harris  ...        S       1\n",
              "1       1  Cumings, Mrs. John Bradley (Florence Briggs Th...  ...        C       1\n",
              "2       3                             Heikkinen, Miss. Laina  ...        S       0\n",
              "3       1       Futrelle, Mrs. Jacques Heath (Lily May Peel)  ...        S       1\n",
              "4       3                           Allen, Mr. William Henry  ...        S       0\n",
              "\n",
              "[5 rows x 11 columns]"
            ]
          },
          "metadata": {
            "tags": []
          },
          "execution_count": 20
        }
      ]
    },
    {
      "cell_type": "code",
      "metadata": {
        "id": "79petFko8snb",
        "colab": {
          "base_uri": "https://localhost:8080/"
        },
        "outputId": "17ff5f64-d005-4ed7-b3d3-c12a6fc3e6fd"
      },
      "source": [
        "#Train\n",
        "print('Missing values del train')\n",
        "for i in range(len(data_train.columns)):\n",
        "  missing_data = data_train[data_train.columns[i]].isna().sum()\n",
        "  perc = missing_data / len(data_train) * 100\n",
        "  print(data_train.columns[i] + ' --- missing values: %d, percentage %.2f' % (missing_data, perc))\n",
        "\n",
        "#Test\n",
        "print('')\n",
        "print('Missing values del test')\n",
        "for i in range(len(data_test.columns)):\n",
        "  missing_data = data_test[data_test.columns[i]].isna().sum()\n",
        "  perc = missing_data / len(data_test) * 100\n",
        "  print(data_test.columns[i] + ' --- missing values: %d, percentage %.2f' % (missing_data, perc))"
      ],
      "execution_count": 21,
      "outputs": [
        {
          "output_type": "stream",
          "text": [
            "Missing values del train\n",
            "PassengerId --- missing values: 0, percentage 0.00\n",
            "Pclass --- missing values: 0, percentage 0.00\n",
            "Name --- missing values: 0, percentage 0.00\n",
            "Sex --- missing values: 0, percentage 0.00\n",
            "Age --- missing values: 177, percentage 19.87\n",
            "SibSp --- missing values: 0, percentage 0.00\n",
            "Parch --- missing values: 0, percentage 0.00\n",
            "Ticket --- missing values: 0, percentage 0.00\n",
            "Fare --- missing values: 0, percentage 0.00\n",
            "Cabin --- missing values: 687, percentage 77.10\n",
            "Embarked --- missing values: 2, percentage 0.22\n",
            "Family --- missing values: 0, percentage 0.00\n",
            "\n",
            "Missing values del test\n",
            "PassengerId --- missing values: 0, percentage 0.00\n",
            "Pclass --- missing values: 0, percentage 0.00\n",
            "Name --- missing values: 0, percentage 0.00\n",
            "Sex --- missing values: 0, percentage 0.00\n",
            "Age --- missing values: 86, percentage 20.57\n",
            "SibSp --- missing values: 0, percentage 0.00\n",
            "Parch --- missing values: 0, percentage 0.00\n",
            "Ticket --- missing values: 0, percentage 0.00\n",
            "Fare --- missing values: 1, percentage 0.24\n",
            "Cabin --- missing values: 327, percentage 78.23\n",
            "Embarked --- missing values: 0, percentage 0.00\n",
            "Family --- missing values: 0, percentage 0.00\n"
          ],
          "name": "stdout"
        }
      ]
    },
    {
      "cell_type": "markdown",
      "metadata": {
        "id": "qPM9tDTnfED1"
      },
      "source": [
        "Gestisco dati mancanti per \"Cabin\" (687 missing values)"
      ]
    },
    {
      "cell_type": "code",
      "metadata": {
        "colab": {
          "base_uri": "https://localhost:8080/"
        },
        "id": "jZ8OKdTQfKe4",
        "outputId": "87060d15-2391-430e-e613-7ab088e020c0"
      },
      "source": [
        "# riempio i missing values con la lettera U = Unknown\n",
        "combined.Cabin.fillna('U', inplace=True)\n",
        "\n",
        "# creo due insiemi vuoti per vedere che lettere ci sono nel train e nel test\n",
        "train_cabin, test_cabin = set(), set()\n",
        "\n",
        "# passo il train (combined fino a 891) e metto il primo carattere c[0] nell'insieme\n",
        "for c in combined.iloc[:891]['Cabin']:\n",
        "    if(c[0] != 'U'):\n",
        "      train_cabin.add(c[0])\n",
        "# stesso per il test\n",
        "for c in combined.iloc[891:]['Cabin']:\n",
        "    if(c[0] != 'U'):\n",
        "      test_cabin.add(c[0])\n",
        "\n",
        "# li stampo e vedo se i valori nel test ci sono tutti nel train\n",
        "print(\"Train -> \",sorted(train_cabin))\n",
        "print(\"Test  -> \",sorted(test_cabin))"
      ],
      "execution_count": 22,
      "outputs": [
        {
          "output_type": "stream",
          "text": [
            "Train ->  ['A', 'B', 'C', 'D', 'E', 'F', 'G', 'T']\n",
            "Test  ->  ['A', 'B', 'C', 'D', 'E', 'F', 'G']\n"
          ],
          "name": "stdout"
        }
      ]
    },
    {
      "cell_type": "code",
      "metadata": {
        "id": "Xb-vu0mlCIV7"
      },
      "source": [
        "# mappo i valori di cabin con la loro prima lettera\n",
        "combined['Cabin'] = combined['Cabin'].map(lambda c: c[0])"
      ],
      "execution_count": 23,
      "outputs": []
    },
    {
      "cell_type": "markdown",
      "metadata": {
        "id": "oUylEzdoEiSA"
      },
      "source": [
        "Controllo la distribuzione dei tipi di cabina in base alla classe dei passeggeri"
      ]
    },
    {
      "cell_type": "code",
      "metadata": {
        "colab": {
          "base_uri": "https://localhost:8080/"
        },
        "id": "fU-wGgVgEVc2",
        "outputId": "86daf57d-f155-4e50-a194-ed7eda4d31ec"
      },
      "source": [
        "print(combined.iloc[:891].groupby('Pclass').Cabin.value_counts())\n",
        "print(combined.iloc[891:].groupby('Pclass').Cabin.value_counts())"
      ],
      "execution_count": 24,
      "outputs": [
        {
          "output_type": "stream",
          "text": [
            "Pclass  Cabin\n",
            "1       C         59\n",
            "        B         47\n",
            "        U         40\n",
            "        D         29\n",
            "        E         25\n",
            "        A         15\n",
            "        T          1\n",
            "2       U        168\n",
            "        F          8\n",
            "        D          4\n",
            "        E          4\n",
            "3       U        479\n",
            "        F          5\n",
            "        G          4\n",
            "        E          3\n",
            "Name: Cabin, dtype: int64\n",
            "Pclass  Cabin\n",
            "1       C         35\n",
            "        U         27\n",
            "        B         18\n",
            "        D         11\n",
            "        E          9\n",
            "        A          7\n",
            "2       U         86\n",
            "        F          5\n",
            "        D          2\n",
            "3       U        214\n",
            "        F          3\n",
            "        G          1\n",
            "Name: Cabin, dtype: int64\n"
          ],
          "name": "stdout"
        }
      ]
    },
    {
      "cell_type": "markdown",
      "metadata": {
        "id": "aFEz7sByFHPh"
      },
      "source": [
        "Assegno ai missing values di ogni classe il valore più comune"
      ]
    },
    {
      "cell_type": "code",
      "metadata": {
        "id": "pyWQxirYEs1Q",
        "colab": {
          "base_uri": "https://localhost:8080/"
        },
        "outputId": "e9ca8c99-326f-45c4-9be6-06783d522f18"
      },
      "source": [
        "def probability_distribution(a):\n",
        " elements_count = {}\n",
        "\n",
        " for i in a:\n",
        "   if i in elements_count:\n",
        "       elements_count[i] += 1\n",
        "   else:\n",
        "       elements_count[i] = 1\n",
        "\n",
        " sol = []\n",
        " for i in np.unique(a):\n",
        "   sol.append(elements_count.get(i)/len(a))\n",
        "  \n",
        " return sol\n",
        "\n",
        "def fill_feature(feature):\n",
        "\n",
        " feature_not_null = feature[np.logical_not(pd.isna(feature))]\n",
        " feature_unique = np.unique(feature_not_null)\n",
        " a = probability_distribution(feature_not_null)\n",
        " b = random.choice(feature_unique, size=None, replace=True, p=a)\n",
        "\n",
        " for i in range(len(feature)):\n",
        "   if pd.isna(feature.iloc[i]):\n",
        "    feature[i] = random.choice(feature_unique, size=None, replace=True, p=a)\n",
        "\n",
        " return feature\n",
        "combined.loc[combined['Cabin'] == 'U','Cabin'] = np.nan\n",
        "\n",
        "to_clear=combined.iloc[:891].Cabin\n",
        "to_clear = to_clear.replace(['A', 'B', 'C', 'D', 'E', 'F', 'G', 'T'], [1, 2, 3, 4, 5, 6, 7, 8])\n",
        "cleared = fill_feature(to_clear)\n",
        "cleared = cleared.replace([1, 2, 3, 4, 5, 6, 7, 8],['A', 'B', 'C', 'D', 'E', 'F', 'G', 'T'])\n",
        "combined.iloc[:891].Cabin = cleared\n",
        "\n",
        "to_clear2=combined.iloc[891:].Cabin\n",
        "to_clear2 = to_clear2.replace(['A', 'B', 'C', 'D', 'E', 'F', 'G'], [1, 2, 3, 4, 5, 6, 7])\n",
        "cleared2 = fill_feature(to_clear2)\n",
        "cleared2 = cleared2.replace([1, 2, 3, 4, 5, 6, 7],['A', 'B', 'C', 'D', 'E', 'F', 'G'])\n",
        "combined.iloc[891:].Cabin = cleared2"
      ],
      "execution_count": 25,
      "outputs": [
        {
          "output_type": "stream",
          "text": [
            "/usr/local/lib/python3.7/dist-packages/pandas/core/generic.py:5170: SettingWithCopyWarning: \n",
            "A value is trying to be set on a copy of a slice from a DataFrame.\n",
            "Try using .loc[row_indexer,col_indexer] = value instead\n",
            "\n",
            "See the caveats in the documentation: https://pandas.pydata.org/pandas-docs/stable/user_guide/indexing.html#returning-a-view-versus-a-copy\n",
            "  self[name] = value\n"
          ],
          "name": "stderr"
        }
      ]
    },
    {
      "cell_type": "code",
      "metadata": {
        "colab": {
          "base_uri": "https://localhost:8080/"
        },
        "id": "1Mk6Q1Z1xJol",
        "outputId": "53d32e1d-3f0c-4db9-b34e-66c7d2d3819f"
      },
      "source": [
        "print(combined.iloc[:891].groupby('Pclass').Cabin.value_counts())\n",
        "print(combined.iloc[891:].groupby('Pclass').Cabin.value_counts())"
      ],
      "execution_count": 26,
      "outputs": [
        {
          "output_type": "stream",
          "text": [
            "Pclass  Cabin\n",
            "1       C         70\n",
            "        B         58\n",
            "        D         39\n",
            "        E         27\n",
            "        A         19\n",
            "        F          2\n",
            "        T          1\n",
            "2       C         57\n",
            "        B         46\n",
            "        D         30\n",
            "        E         22\n",
            "        F         14\n",
            "        A         10\n",
            "        G          4\n",
            "        T          1\n",
            "3       C        145\n",
            "        B        105\n",
            "        D         80\n",
            "        E         69\n",
            "        A         44\n",
            "        F         31\n",
            "        G         14\n",
            "        T          3\n",
            "Name: Cabin, dtype: int64\n",
            "Pclass  Cabin\n",
            "1       C        35\n",
            "        B        18\n",
            "        D        11\n",
            "        E         9\n",
            "        A         7\n",
            "2       F         5\n",
            "        D         2\n",
            "3       F         3\n",
            "        G         1\n",
            "Name: Cabin, dtype: int64\n"
          ],
          "name": "stdout"
        }
      ]
    },
    {
      "cell_type": "markdown",
      "metadata": {
        "id": "CS4-hVMeFamV"
      },
      "source": [
        "Faccio il dummy coding"
      ]
    },
    {
      "cell_type": "code",
      "metadata": {
        "id": "hFulUg9xFFZ0"
      },
      "source": [
        "# dummy encoding creo una colonna di valori binari per ogni possibile valore della feature\n",
        "cabin_dummies = pd.get_dummies(combined['Cabin'], prefix='Cabin')    \n",
        "combined = pd.concat([combined, cabin_dummies], axis=1)\n",
        "\n",
        "# elimino la colonna cabin che non mi serve più\n",
        "combined.drop('Cabin', axis=1, inplace=True)"
      ],
      "execution_count": 27,
      "outputs": []
    },
    {
      "cell_type": "markdown",
      "metadata": {
        "id": "D_wW1_vHCBET"
      },
      "source": [
        "Riempimento della feature 'fare' con la media fatta solo sui dati di test"
      ]
    },
    {
      "cell_type": "code",
      "metadata": {
        "id": "1Ii0EeQGF8H1",
        "colab": {
          "base_uri": "https://localhost:8080/"
        },
        "outputId": "07235d0d-0635-49b7-d5b1-30a32798a88d"
      },
      "source": [
        "combined.iloc[:891].Fare.fillna(combined.iloc[:891].Fare.median(), inplace=True)\n",
        "combined.iloc[891:].Fare.fillna(combined.iloc[891:].Fare.median(), inplace=True)"
      ],
      "execution_count": 28,
      "outputs": [
        {
          "output_type": "stream",
          "text": [
            "/usr/local/lib/python3.7/dist-packages/pandas/core/series.py:4536: SettingWithCopyWarning: \n",
            "A value is trying to be set on a copy of a slice from a DataFrame\n",
            "\n",
            "See the caveats in the documentation: https://pandas.pydata.org/pandas-docs/stable/user_guide/indexing.html#returning-a-view-versus-a-copy\n",
            "  downcast=downcast,\n"
          ],
          "name": "stderr"
        }
      ]
    },
    {
      "cell_type": "markdown",
      "metadata": {
        "id": "wFQtf6LoFqLf"
      },
      "source": [
        "Estraggo i titoli dai nomi, e sostituisco i titoli che appaiono meno con alcuni più comuni e comprensivi"
      ]
    },
    {
      "cell_type": "code",
      "metadata": {
        "id": "OoZVty0trs0g",
        "colab": {
          "base_uri": "https://localhost:8080/",
          "height": 0
        },
        "outputId": "f2a16a9f-0432-4449-c38f-9f56aeb6ce66"
      },
      "source": [
        "titles = set()\n",
        "for name in data_train['Name']:\n",
        "    titles.add(name.split(',')[1].split('.')[0].strip())\n",
        "\n",
        "#PRESO DA INTERNET, Molti dei titoli usati non sono piu' oggi di uso comune\n",
        "Title_Dictionary = {\n",
        "    \"Capt\": \"Officer\",\n",
        "    \"Col\": \"Officer\",\n",
        "    \"Major\": \"Officer\",\n",
        "    \"Jonkheer\": \"Royalty\",\n",
        "    \"Don\": \"Royalty\",\n",
        "    \"Dona\": \"Royalty\",\n",
        "    \"Sir\" : \"Royalty\",\n",
        "    \"Dr\": \"Officer\",\n",
        "    \"Rev\": \"Officer\",\n",
        "    \"the Countess\":\"Royalty\",\n",
        "    \"Mme\": \"Mrs\",\n",
        "    \"Mlle\": \"Miss\",\n",
        "    \"Ms\": \"Mrs\",\n",
        "    \"Mr\" : \"Mr\",\n",
        "    \"Mrs\" : \"Mrs\",\n",
        "    \"Miss\" : \"Miss\",\n",
        "    \"Master\" : \"Master\",\n",
        "    \"Lady\" : \"Royalty\",\n",
        "}\n",
        "\n",
        "nome = combined['Name']\n",
        "titolo = []\n",
        "for i in range(len(nome)):\n",
        "  titolo.append(Title_Dictionary[nome[i].split(',')[1].split('.')[0].strip()])\n",
        "\n",
        "combined['Title']=titolo\n",
        "combined.groupby(['Title','Sex']).count()"
      ],
      "execution_count": 29,
      "outputs": [
        {
          "output_type": "execute_result",
          "data": {
            "text/html": [
              "<div>\n",
              "<style scoped>\n",
              "    .dataframe tbody tr th:only-of-type {\n",
              "        vertical-align: middle;\n",
              "    }\n",
              "\n",
              "    .dataframe tbody tr th {\n",
              "        vertical-align: top;\n",
              "    }\n",
              "\n",
              "    .dataframe thead th {\n",
              "        text-align: right;\n",
              "    }\n",
              "</style>\n",
              "<table border=\"1\" class=\"dataframe\">\n",
              "  <thead>\n",
              "    <tr style=\"text-align: right;\">\n",
              "      <th></th>\n",
              "      <th></th>\n",
              "      <th>Pclass</th>\n",
              "      <th>Name</th>\n",
              "      <th>Age</th>\n",
              "      <th>SibSp</th>\n",
              "      <th>Parch</th>\n",
              "      <th>Ticket</th>\n",
              "      <th>Fare</th>\n",
              "      <th>Embarked</th>\n",
              "      <th>Family</th>\n",
              "      <th>Cabin_A</th>\n",
              "      <th>Cabin_B</th>\n",
              "      <th>Cabin_C</th>\n",
              "      <th>Cabin_D</th>\n",
              "      <th>Cabin_E</th>\n",
              "      <th>Cabin_F</th>\n",
              "      <th>Cabin_G</th>\n",
              "      <th>Cabin_T</th>\n",
              "    </tr>\n",
              "    <tr>\n",
              "      <th>Title</th>\n",
              "      <th>Sex</th>\n",
              "      <th></th>\n",
              "      <th></th>\n",
              "      <th></th>\n",
              "      <th></th>\n",
              "      <th></th>\n",
              "      <th></th>\n",
              "      <th></th>\n",
              "      <th></th>\n",
              "      <th></th>\n",
              "      <th></th>\n",
              "      <th></th>\n",
              "      <th></th>\n",
              "      <th></th>\n",
              "      <th></th>\n",
              "      <th></th>\n",
              "      <th></th>\n",
              "      <th></th>\n",
              "    </tr>\n",
              "  </thead>\n",
              "  <tbody>\n",
              "    <tr>\n",
              "      <th>Master</th>\n",
              "      <th>male</th>\n",
              "      <td>61</td>\n",
              "      <td>61</td>\n",
              "      <td>53</td>\n",
              "      <td>61</td>\n",
              "      <td>61</td>\n",
              "      <td>61</td>\n",
              "      <td>61</td>\n",
              "      <td>61</td>\n",
              "      <td>61</td>\n",
              "      <td>61</td>\n",
              "      <td>61</td>\n",
              "      <td>61</td>\n",
              "      <td>61</td>\n",
              "      <td>61</td>\n",
              "      <td>61</td>\n",
              "      <td>61</td>\n",
              "      <td>61</td>\n",
              "    </tr>\n",
              "    <tr>\n",
              "      <th>Miss</th>\n",
              "      <th>female</th>\n",
              "      <td>262</td>\n",
              "      <td>262</td>\n",
              "      <td>212</td>\n",
              "      <td>262</td>\n",
              "      <td>262</td>\n",
              "      <td>262</td>\n",
              "      <td>262</td>\n",
              "      <td>261</td>\n",
              "      <td>262</td>\n",
              "      <td>262</td>\n",
              "      <td>262</td>\n",
              "      <td>262</td>\n",
              "      <td>262</td>\n",
              "      <td>262</td>\n",
              "      <td>262</td>\n",
              "      <td>262</td>\n",
              "      <td>262</td>\n",
              "    </tr>\n",
              "    <tr>\n",
              "      <th>Mr</th>\n",
              "      <th>male</th>\n",
              "      <td>757</td>\n",
              "      <td>757</td>\n",
              "      <td>581</td>\n",
              "      <td>757</td>\n",
              "      <td>757</td>\n",
              "      <td>757</td>\n",
              "      <td>757</td>\n",
              "      <td>757</td>\n",
              "      <td>757</td>\n",
              "      <td>757</td>\n",
              "      <td>757</td>\n",
              "      <td>757</td>\n",
              "      <td>757</td>\n",
              "      <td>757</td>\n",
              "      <td>757</td>\n",
              "      <td>757</td>\n",
              "      <td>757</td>\n",
              "    </tr>\n",
              "    <tr>\n",
              "      <th>Mrs</th>\n",
              "      <th>female</th>\n",
              "      <td>200</td>\n",
              "      <td>200</td>\n",
              "      <td>172</td>\n",
              "      <td>200</td>\n",
              "      <td>200</td>\n",
              "      <td>200</td>\n",
              "      <td>200</td>\n",
              "      <td>199</td>\n",
              "      <td>200</td>\n",
              "      <td>200</td>\n",
              "      <td>200</td>\n",
              "      <td>200</td>\n",
              "      <td>200</td>\n",
              "      <td>200</td>\n",
              "      <td>200</td>\n",
              "      <td>200</td>\n",
              "      <td>200</td>\n",
              "    </tr>\n",
              "    <tr>\n",
              "      <th rowspan=\"2\" valign=\"top\">Officer</th>\n",
              "      <th>female</th>\n",
              "      <td>1</td>\n",
              "      <td>1</td>\n",
              "      <td>1</td>\n",
              "      <td>1</td>\n",
              "      <td>1</td>\n",
              "      <td>1</td>\n",
              "      <td>1</td>\n",
              "      <td>1</td>\n",
              "      <td>1</td>\n",
              "      <td>1</td>\n",
              "      <td>1</td>\n",
              "      <td>1</td>\n",
              "      <td>1</td>\n",
              "      <td>1</td>\n",
              "      <td>1</td>\n",
              "      <td>1</td>\n",
              "      <td>1</td>\n",
              "    </tr>\n",
              "    <tr>\n",
              "      <th>male</th>\n",
              "      <td>22</td>\n",
              "      <td>22</td>\n",
              "      <td>21</td>\n",
              "      <td>22</td>\n",
              "      <td>22</td>\n",
              "      <td>22</td>\n",
              "      <td>22</td>\n",
              "      <td>22</td>\n",
              "      <td>22</td>\n",
              "      <td>22</td>\n",
              "      <td>22</td>\n",
              "      <td>22</td>\n",
              "      <td>22</td>\n",
              "      <td>22</td>\n",
              "      <td>22</td>\n",
              "      <td>22</td>\n",
              "      <td>22</td>\n",
              "    </tr>\n",
              "    <tr>\n",
              "      <th rowspan=\"2\" valign=\"top\">Royalty</th>\n",
              "      <th>female</th>\n",
              "      <td>3</td>\n",
              "      <td>3</td>\n",
              "      <td>3</td>\n",
              "      <td>3</td>\n",
              "      <td>3</td>\n",
              "      <td>3</td>\n",
              "      <td>3</td>\n",
              "      <td>3</td>\n",
              "      <td>3</td>\n",
              "      <td>3</td>\n",
              "      <td>3</td>\n",
              "      <td>3</td>\n",
              "      <td>3</td>\n",
              "      <td>3</td>\n",
              "      <td>3</td>\n",
              "      <td>3</td>\n",
              "      <td>3</td>\n",
              "    </tr>\n",
              "    <tr>\n",
              "      <th>male</th>\n",
              "      <td>3</td>\n",
              "      <td>3</td>\n",
              "      <td>3</td>\n",
              "      <td>3</td>\n",
              "      <td>3</td>\n",
              "      <td>3</td>\n",
              "      <td>3</td>\n",
              "      <td>3</td>\n",
              "      <td>3</td>\n",
              "      <td>3</td>\n",
              "      <td>3</td>\n",
              "      <td>3</td>\n",
              "      <td>3</td>\n",
              "      <td>3</td>\n",
              "      <td>3</td>\n",
              "      <td>3</td>\n",
              "      <td>3</td>\n",
              "    </tr>\n",
              "  </tbody>\n",
              "</table>\n",
              "</div>"
            ],
            "text/plain": [
              "                Pclass  Name  Age  SibSp  ...  Cabin_E  Cabin_F  Cabin_G  Cabin_T\n",
              "Title   Sex                               ...                                    \n",
              "Master  male        61    61   53     61  ...       61       61       61       61\n",
              "Miss    female     262   262  212    262  ...      262      262      262      262\n",
              "Mr      male       757   757  581    757  ...      757      757      757      757\n",
              "Mrs     female     200   200  172    200  ...      200      200      200      200\n",
              "Officer female       1     1    1      1  ...        1        1        1        1\n",
              "        male        22    22   21     22  ...       22       22       22       22\n",
              "Royalty female       3     3    3      3  ...        3        3        3        3\n",
              "        male         3     3    3      3  ...        3        3        3        3\n",
              "\n",
              "[8 rows x 17 columns]"
            ]
          },
          "metadata": {
            "tags": []
          },
          "execution_count": 29
        }
      ]
    },
    {
      "cell_type": "code",
      "metadata": {
        "colab": {
          "base_uri": "https://localhost:8080/",
          "height": 0
        },
        "id": "uGqxtV0mvIFn",
        "outputId": "e454e31a-cdec-4f2d-8f2c-9d3c8df92f09"
      },
      "source": [
        "plt.scatter(combined['Title'],combined['Age'], color=\"#ffd69c\", edgecolors=\"#ff9a0d\")\n",
        "plt.ylabel('Age')\n",
        "plt.xlabel('Title')\n",
        "plt.show()"
      ],
      "execution_count": 30,
      "outputs": [
        {
          "output_type": "display_data",
          "data": {
            "image/png": "[encoded data removed]",
            "text/plain": [
              "<Figure size 432x288 with 1 Axes>"
            ]
          },
          "metadata": {
            "tags": [],
            "needs_background": "light"
          }
        }
      ]
    },
    {
      "cell_type": "code",
      "metadata": {
        "colab": {
          "base_uri": "https://localhost:8080/",
          "height": 0
        },
        "id": "mrRINa1bvIov",
        "outputId": "0ec190ac-7bd0-400d-fb8d-91e083c2a7ea"
      },
      "source": [
        "plt.scatter(combined['Title'],combined['Fare'], color=\"#ffbfc3\", edgecolors=\"#ff6973\")\n",
        "plt.ylabel('Fare')\n",
        "plt.xlabel('Title')\n",
        "plt.show()"
      ],
      "execution_count": 31,
      "outputs": [
        {
          "output_type": "display_data",
          "data": {
            "image/png": "[encoded data removed]",
            "text/plain": [
              "<Figure size 432x288 with 1 Axes>"
            ]
          },
          "metadata": {
            "tags": [],
            "needs_background": "light"
          }
        }
      ]
    },
    {
      "cell_type": "code",
      "metadata": {
        "id": "OfxqvF9WGbk7",
        "colab": {
          "base_uri": "https://localhost:8080/",
          "height": 0
        },
        "outputId": "71d08cd0-2b63-4765-b97f-94357e411958"
      },
      "source": [
        "cabin_dummies = pd.get_dummies(combined['Title'], prefix='Title')    \n",
        "combined = pd.concat([combined, cabin_dummies], axis=1)\n",
        "\n",
        "combined.head()"
      ],
      "execution_count": 32,
      "outputs": [
        {
          "output_type": "execute_result",
          "data": {
            "text/html": [
              "<div>\n",
              "<style scoped>\n",
              "    .dataframe tbody tr th:only-of-type {\n",
              "        vertical-align: middle;\n",
              "    }\n",
              "\n",
              "    .dataframe tbody tr th {\n",
              "        vertical-align: top;\n",
              "    }\n",
              "\n",
              "    .dataframe thead th {\n",
              "        text-align: right;\n",
              "    }\n",
              "</style>\n",
              "<table border=\"1\" class=\"dataframe\">\n",
              "  <thead>\n",
              "    <tr style=\"text-align: right;\">\n",
              "      <th></th>\n",
              "      <th>Pclass</th>\n",
              "      <th>Name</th>\n",
              "      <th>Sex</th>\n",
              "      <th>Age</th>\n",
              "      <th>SibSp</th>\n",
              "      <th>Parch</th>\n",
              "      <th>Ticket</th>\n",
              "      <th>Fare</th>\n",
              "      <th>Embarked</th>\n",
              "      <th>Family</th>\n",
              "      <th>Cabin_A</th>\n",
              "      <th>Cabin_B</th>\n",
              "      <th>Cabin_C</th>\n",
              "      <th>Cabin_D</th>\n",
              "      <th>Cabin_E</th>\n",
              "      <th>Cabin_F</th>\n",
              "      <th>Cabin_G</th>\n",
              "      <th>Cabin_T</th>\n",
              "      <th>Title</th>\n",
              "      <th>Title_Master</th>\n",
              "      <th>Title_Miss</th>\n",
              "      <th>Title_Mr</th>\n",
              "      <th>Title_Mrs</th>\n",
              "      <th>Title_Officer</th>\n",
              "      <th>Title_Royalty</th>\n",
              "    </tr>\n",
              "  </thead>\n",
              "  <tbody>\n",
              "    <tr>\n",
              "      <th>0</th>\n",
              "      <td>3</td>\n",
              "      <td>Braund, Mr. Owen Harris</td>\n",
              "      <td>male</td>\n",
              "      <td>22.0</td>\n",
              "      <td>1</td>\n",
              "      <td>0</td>\n",
              "      <td>A/5 21171</td>\n",
              "      <td>7.2500</td>\n",
              "      <td>S</td>\n",
              "      <td>1</td>\n",
              "      <td>0</td>\n",
              "      <td>1</td>\n",
              "      <td>0</td>\n",
              "      <td>0</td>\n",
              "      <td>0</td>\n",
              "      <td>0</td>\n",
              "      <td>0</td>\n",
              "      <td>0</td>\n",
              "      <td>Mr</td>\n",
              "      <td>0</td>\n",
              "      <td>0</td>\n",
              "      <td>1</td>\n",
              "      <td>0</td>\n",
              "      <td>0</td>\n",
              "      <td>0</td>\n",
              "    </tr>\n",
              "    <tr>\n",
              "      <th>1</th>\n",
              "      <td>1</td>\n",
              "      <td>Cumings, Mrs. John Bradley (Florence Briggs Th...</td>\n",
              "      <td>female</td>\n",
              "      <td>38.0</td>\n",
              "      <td>1</td>\n",
              "      <td>0</td>\n",
              "      <td>PC 17599</td>\n",
              "      <td>71.2833</td>\n",
              "      <td>C</td>\n",
              "      <td>1</td>\n",
              "      <td>0</td>\n",
              "      <td>0</td>\n",
              "      <td>1</td>\n",
              "      <td>0</td>\n",
              "      <td>0</td>\n",
              "      <td>0</td>\n",
              "      <td>0</td>\n",
              "      <td>0</td>\n",
              "      <td>Mrs</td>\n",
              "      <td>0</td>\n",
              "      <td>0</td>\n",
              "      <td>0</td>\n",
              "      <td>1</td>\n",
              "      <td>0</td>\n",
              "      <td>0</td>\n",
              "    </tr>\n",
              "    <tr>\n",
              "      <th>2</th>\n",
              "      <td>3</td>\n",
              "      <td>Heikkinen, Miss. Laina</td>\n",
              "      <td>female</td>\n",
              "      <td>26.0</td>\n",
              "      <td>0</td>\n",
              "      <td>0</td>\n",
              "      <td>STON/O2. 3101282</td>\n",
              "      <td>7.9250</td>\n",
              "      <td>S</td>\n",
              "      <td>0</td>\n",
              "      <td>0</td>\n",
              "      <td>1</td>\n",
              "      <td>0</td>\n",
              "      <td>0</td>\n",
              "      <td>0</td>\n",
              "      <td>0</td>\n",
              "      <td>0</td>\n",
              "      <td>0</td>\n",
              "      <td>Miss</td>\n",
              "      <td>0</td>\n",
              "      <td>1</td>\n",
              "      <td>0</td>\n",
              "      <td>0</td>\n",
              "      <td>0</td>\n",
              "      <td>0</td>\n",
              "    </tr>\n",
              "    <tr>\n",
              "      <th>3</th>\n",
              "      <td>1</td>\n",
              "      <td>Futrelle, Mrs. Jacques Heath (Lily May Peel)</td>\n",
              "      <td>female</td>\n",
              "      <td>35.0</td>\n",
              "      <td>1</td>\n",
              "      <td>0</td>\n",
              "      <td>113803</td>\n",
              "      <td>53.1000</td>\n",
              "      <td>S</td>\n",
              "      <td>1</td>\n",
              "      <td>0</td>\n",
              "      <td>0</td>\n",
              "      <td>1</td>\n",
              "      <td>0</td>\n",
              "      <td>0</td>\n",
              "      <td>0</td>\n",
              "      <td>0</td>\n",
              "      <td>0</td>\n",
              "      <td>Mrs</td>\n",
              "      <td>0</td>\n",
              "      <td>0</td>\n",
              "      <td>0</td>\n",
              "      <td>1</td>\n",
              "      <td>0</td>\n",
              "      <td>0</td>\n",
              "    </tr>\n",
              "    <tr>\n",
              "      <th>4</th>\n",
              "      <td>3</td>\n",
              "      <td>Allen, Mr. William Henry</td>\n",
              "      <td>male</td>\n",
              "      <td>35.0</td>\n",
              "      <td>0</td>\n",
              "      <td>0</td>\n",
              "      <td>373450</td>\n",
              "      <td>8.0500</td>\n",
              "      <td>S</td>\n",
              "      <td>0</td>\n",
              "      <td>0</td>\n",
              "      <td>0</td>\n",
              "      <td>0</td>\n",
              "      <td>1</td>\n",
              "      <td>0</td>\n",
              "      <td>0</td>\n",
              "      <td>0</td>\n",
              "      <td>0</td>\n",
              "      <td>Mr</td>\n",
              "      <td>0</td>\n",
              "      <td>0</td>\n",
              "      <td>1</td>\n",
              "      <td>0</td>\n",
              "      <td>0</td>\n",
              "      <td>0</td>\n",
              "    </tr>\n",
              "  </tbody>\n",
              "</table>\n",
              "</div>"
            ],
            "text/plain": [
              "   Pclass  ... Title_Royalty\n",
              "0       3  ...             0\n",
              "1       1  ...             0\n",
              "2       3  ...             0\n",
              "3       1  ...             0\n",
              "4       3  ...             0\n",
              "\n",
              "[5 rows x 25 columns]"
            ]
          },
          "metadata": {
            "tags": []
          },
          "execution_count": 32
        }
      ]
    },
    {
      "cell_type": "markdown",
      "metadata": {
        "id": "O2IybTbNz1OV"
      },
      "source": [
        "Fillo dati età"
      ]
    },
    {
      "cell_type": "code",
      "metadata": {
        "colab": {
          "base_uri": "https://localhost:8080/"
        },
        "id": "fQWxM-aojYbu",
        "outputId": "b0050219-c3c0-4245-b2b4-1032b4b0fb77"
      },
      "source": [
        "# group by Sex, Pclass, and Title \n",
        "grouped_train = combined.iloc[:891].groupby(['Sex', 'Title'])  \n",
        "grouped_test = combined.iloc[891:].groupby(['Sex', 'Title']) \n",
        "# view the median Age by the grouped features \n",
        "grouped_train.Age.median()\n",
        "grouped_test.Age.median()"
      ],
      "execution_count": 33,
      "outputs": [
        {
          "output_type": "execute_result",
          "data": {
            "text/plain": [
              "Sex     Title  \n",
              "female  Miss       22.0\n",
              "        Mrs        36.5\n",
              "        Royalty    39.0\n",
              "male    Master      7.0\n",
              "        Mr         28.5\n",
              "        Officer    47.0\n",
              "Name: Age, dtype: float64"
            ]
          },
          "metadata": {
            "tags": []
          },
          "execution_count": 33
        }
      ]
    },
    {
      "cell_type": "code",
      "metadata": {
        "id": "pPTLbMw-jhbt",
        "colab": {
          "base_uri": "https://localhost:8080/"
        },
        "outputId": "4089de67-31e7-4b29-da5b-70a99ca188a6"
      },
      "source": [
        "# #apply the grouped median value on the Age NaN\n",
        "combined.iloc[:891].Age = grouped_train.Age.apply(lambda x: x.fillna(x.median()))\n",
        "combined.iloc[891:].Age = grouped_test.Age.apply(lambda x: x.fillna(x.median()))"
      ],
      "execution_count": 34,
      "outputs": [
        {
          "output_type": "stream",
          "text": [
            "/usr/local/lib/python3.7/dist-packages/pandas/core/generic.py:5170: SettingWithCopyWarning: \n",
            "A value is trying to be set on a copy of a slice from a DataFrame.\n",
            "Try using .loc[row_indexer,col_indexer] = value instead\n",
            "\n",
            "See the caveats in the documentation: https://pandas.pydata.org/pandas-docs/stable/user_guide/indexing.html#returning-a-view-versus-a-copy\n",
            "  self[name] = value\n"
          ],
          "name": "stderr"
        }
      ]
    },
    {
      "cell_type": "markdown",
      "metadata": {
        "id": "iVv0ZvbGD0QS"
      },
      "source": [
        "Aggiusto la famiglia per dargli piu specializzazione"
      ]
    },
    {
      "cell_type": "code",
      "metadata": {
        "id": "77fq9lpTD3SP"
      },
      "source": [
        "combined.drop('Family', axis=1, inplace=True)\n",
        "combined.drop('Title', axis=1, inplace=True)\n",
        "\n",
        "combined['FamilySize'] = combined['Parch'] + combined['SibSp'] + 1"
      ],
      "execution_count": 35,
      "outputs": []
    },
    {
      "cell_type": "code",
      "metadata": {
        "id": "5AveUFWMCJXq"
      },
      "source": [
        "#Aggiungere dummy variables secondariamente\n",
        "most_embarked = combined.Embarked.value_counts().index[0]\n",
        "combined.Embarked = combined.Embarked.fillna(most_embarked)\n",
        "embarked_dummies = pd.get_dummies(combined['Embarked'], prefix=\"Embarked\")\n",
        "combined = pd.concat([combined, embarked_dummies], axis=1)\n",
        "combined.drop(['Embarked'], inplace=True, axis=1)"
      ],
      "execution_count": 36,
      "outputs": []
    },
    {
      "cell_type": "markdown",
      "metadata": {
        "id": "FHFXfTYLz_OK"
      },
      "source": [
        "Metto le dummy variables per il Pclass"
      ]
    },
    {
      "cell_type": "code",
      "metadata": {
        "id": "5eSQyG--XiM6"
      },
      "source": [
        "pclass_dummies = pd.get_dummies(combined['Pclass'], prefix=\"Pclass\")\n",
        "\n",
        "combined = pd.concat([combined, pclass_dummies],axis=1)\n",
        "    \n",
        "combined.drop('Pclass',axis=1,inplace=True)"
      ],
      "execution_count": 37,
      "outputs": []
    },
    {
      "cell_type": "code",
      "metadata": {
        "colab": {
          "base_uri": "https://localhost:8080/"
        },
        "id": "PWHeOCbQHNjS",
        "outputId": "459f602e-147b-4bc5-f6fc-d5b56ecaf57d"
      },
      "source": [
        "print('')\n",
        "print('Missing values del combined')\n",
        "for i in range(len(combined.columns)):\n",
        "  missing_data = combined[combined.columns[i]].isna().sum()\n",
        "  perc = missing_data / len(combined) * 100\n",
        "  print(combined.columns[i] + ' --- missing values: %d, percentage %.2f' % (missing_data, perc))"
      ],
      "execution_count": 38,
      "outputs": [
        {
          "output_type": "stream",
          "text": [
            "\n",
            "Missing values del combined\n",
            "Name --- missing values: 0, percentage 0.00\n",
            "Sex --- missing values: 0, percentage 0.00\n",
            "Age --- missing values: 0, percentage 0.00\n",
            "SibSp --- missing values: 0, percentage 0.00\n",
            "Parch --- missing values: 0, percentage 0.00\n",
            "Ticket --- missing values: 0, percentage 0.00\n",
            "Fare --- missing values: 0, percentage 0.00\n",
            "Cabin_A --- missing values: 0, percentage 0.00\n",
            "Cabin_B --- missing values: 0, percentage 0.00\n",
            "Cabin_C --- missing values: 0, percentage 0.00\n",
            "Cabin_D --- missing values: 0, percentage 0.00\n",
            "Cabin_E --- missing values: 0, percentage 0.00\n",
            "Cabin_F --- missing values: 0, percentage 0.00\n",
            "Cabin_G --- missing values: 0, percentage 0.00\n",
            "Cabin_T --- missing values: 0, percentage 0.00\n",
            "Title_Master --- missing values: 0, percentage 0.00\n",
            "Title_Miss --- missing values: 0, percentage 0.00\n",
            "Title_Mr --- missing values: 0, percentage 0.00\n",
            "Title_Mrs --- missing values: 0, percentage 0.00\n",
            "Title_Officer --- missing values: 0, percentage 0.00\n",
            "Title_Royalty --- missing values: 0, percentage 0.00\n",
            "FamilySize --- missing values: 0, percentage 0.00\n",
            "Embarked_C --- missing values: 0, percentage 0.00\n",
            "Embarked_Q --- missing values: 0, percentage 0.00\n",
            "Embarked_S --- missing values: 0, percentage 0.00\n",
            "Pclass_1 --- missing values: 0, percentage 0.00\n",
            "Pclass_2 --- missing values: 0, percentage 0.00\n",
            "Pclass_3 --- missing values: 0, percentage 0.00\n"
          ],
          "name": "stdout"
        }
      ]
    },
    {
      "cell_type": "markdown",
      "metadata": {
        "id": "xy5eBpxUDpKN"
      },
      "source": [
        "Divido test e combine"
      ]
    },
    {
      "cell_type": "markdown",
      "metadata": {
        "id": "O4_llJDzGWfg"
      },
      "source": [
        "Trasformazione sesso"
      ]
    },
    {
      "cell_type": "code",
      "metadata": {
        "id": "Elpw9qUHGJuu"
      },
      "source": [
        "combined['Sex'] = combined['Sex'].map({'male':1, 'female':0})"
      ],
      "execution_count": 39,
      "outputs": []
    },
    {
      "cell_type": "markdown",
      "metadata": {
        "id": "KbXmJDh60ZFn"
      },
      "source": [
        "Processiamo Ticket"
      ]
    },
    {
      "cell_type": "code",
      "metadata": {
        "id": "nOFRmUiOFwio"
      },
      "source": [
        "combined.drop(['Name'], inplace=True, axis=1)\n",
        "combined.drop(['Ticket'], inplace=True, axis=1)"
      ],
      "execution_count": 40,
      "outputs": []
    },
    {
      "cell_type": "code",
      "metadata": {
        "id": "39hTRfjPDqhT",
        "colab": {
          "base_uri": "https://localhost:8080/"
        },
        "outputId": "3b41229c-40a8-4993-817c-cca15a763003"
      },
      "source": [
        "def recover_train_test_target():\n",
        "    global combined\n",
        "    \n",
        "    targets = pd.read_csv(DATAPATH+'train.csv', usecols=['Survived'])['Survived'].values\n",
        "    train = combined.iloc[:891]\n",
        "    test = combined.iloc[891:]\n",
        "    \n",
        "    return train, test, targets\n",
        "\n",
        "train_full, test, target = recover_train_test_target()\n",
        "train_full.head()\n",
        "len(train_full.columns)"
      ],
      "execution_count": 41,
      "outputs": [
        {
          "output_type": "execute_result",
          "data": {
            "text/plain": [
              "26"
            ]
          },
          "metadata": {
            "tags": []
          },
          "execution_count": 41
        }
      ]
    },
    {
      "cell_type": "markdown",
      "metadata": {
        "id": "rATCEQh8DhZ3"
      },
      "source": [
        "#MODEL"
      ]
    },
    {
      "cell_type": "markdown",
      "metadata": {
        "id": "q-bzcgP84s6f"
      },
      "source": [
        "Ricapitolando: <br>\n",
        "**train_full** -> dati di train <br>\n",
        "**test** -> dati di test <br>\n",
        "**target** -> colonna target del train <br>\n",
        "**X_train** -> dati di train splittati (train) <br>\n",
        "**X_test** -> dati di train splittati (test) <br>\n",
        "**y_train** -> target del train splittato (train) <br>\n",
        "**y_test** -> target del train splittato (test)<br>\n",
        "Tutti sono fillati\n"
      ]
    },
    {
      "cell_type": "markdown",
      "metadata": {
        "id": "doPc-bllhtl6"
      },
      "source": [
        "Splitto i dati di training per avere un test"
      ]
    },
    {
      "cell_type": "code",
      "metadata": {
        "id": "-WISCYUChqmF"
      },
      "source": [
        "X_train, X_test, y_train, y_test = train_test_split(\n",
        "    train_full, target, train_size=0.7, random_state=42\n",
        ")"
      ],
      "execution_count": 42,
      "outputs": []
    },
    {
      "cell_type": "markdown",
      "metadata": {
        "id": "HfQs1FKRoGq1"
      },
      "source": [
        "Dimensioni a confronto"
      ]
    },
    {
      "cell_type": "code",
      "metadata": {
        "colab": {
          "base_uri": "https://localhost:8080/"
        },
        "id": "NeEUQTyKm7XK",
        "outputId": "d67e31d0-13b6-467b-d5e7-a46c6547955b"
      },
      "source": [
        "print(train_full['Age'].count())\n",
        "print(X_train['Age'].count())\n",
        "print(X_test['Age'].count())\n",
        "print(len(y_train))\n",
        "print(len(y_test))"
      ],
      "execution_count": 43,
      "outputs": [
        {
          "output_type": "stream",
          "text": [
            "891\n",
            "623\n",
            "268\n",
            "623\n",
            "268\n"
          ],
          "name": "stdout"
        }
      ]
    },
    {
      "cell_type": "markdown",
      "metadata": {
        "id": "RKvD7_a25FI5"
      },
      "source": [
        "##Decision tree"
      ]
    },
    {
      "cell_type": "markdown",
      "metadata": {
        "id": "bG2dGst8MQCJ"
      },
      "source": [
        "###semplice"
      ]
    },
    {
      "cell_type": "code",
      "metadata": {
        "colab": {
          "base_uri": "https://localhost:8080/"
        },
        "id": "x0UNUOBk509_",
        "outputId": "ad43083f-5629-4e84-a026-e8697d220076"
      },
      "source": [
        "dtc = DecisionTreeClassifier(max_depth=3, random_state=42)\n",
        "dtc.fit(X_train, y_train)\n",
        "dtc.score(X_test, y_test)"
      ],
      "execution_count": 44,
      "outputs": [
        {
          "output_type": "execute_result",
          "data": {
            "text/plain": [
              "0.8246268656716418"
            ]
          },
          "metadata": {
            "tags": []
          },
          "execution_count": 44
        }
      ]
    },
    {
      "cell_type": "code",
      "metadata": {
        "colab": {
          "base_uri": "https://localhost:8080/",
          "height": 0
        },
        "id": "ECOp7L3T7B92",
        "outputId": "01fdfb66-4cb9-4561-ec64-8558bb38265d"
      },
      "source": [
        "# Visualize Decision Tree\n",
        "dot_data = export_graphviz(\n",
        "    decision_tree=dtc,\n",
        "    out_file=\"decision_tree.dot\",\n",
        "    feature_names=X_train.columns,\n",
        "    filled=True,\n",
        "    rounded=True,\n",
        "    special_characters=True,\n",
        ")\n",
        "\n",
        "# Read the dot graph and display image\n",
        "with open(\"decision_tree.dot\") as img:\n",
        "    tree = img.read()\n",
        "\n",
        "# display(graphviz.Source(dot_graph))\n",
        "display(graphviz.Source(tree))"
      ],
      "execution_count": 45,
      "outputs": [
        {
          "output_type": "display_data",
          "data": {
            "text/plain": [
              "<graphviz.files.Source at 0x7f7963b874d0>"
            ],
            "image/svg+xml": "<?xml version=\"1.0\" encoding=\"UTF-8\" standalone=\"no\"?>\n<!DOCTYPE svg PUBLIC \"-//W3C//DTD SVG 1.1//EN\"\n \"http://www.w3.org/Graphics/SVG/1.1/DTD/svg11.dtd\">\n<!-- Generated by graphviz version 2.40.1 (20161225.0304)\n -->\n<!-- Title: Tree Pages: 1 -->\n<svg width=\"1014pt\" height=\"373pt\"\n viewBox=\"0.00 0.00 1013.50 373.00\" xmlns=\"http://www.w3.org/2000/svg\" xmlns:xlink=\"http://www.w3.org/1999/xlink\">\n<g id=\"graph0\" class=\"graph\" transform=\"scale(1 1) rotate(0) translate(4 369)\">\n<title>Tree</title>\n<polygon fill=\"#ffffff\" stroke=\"transparent\" points=\"-4,4 -4,-369 1009.5,-369 1009.5,4 -4,4\"/>\n<!-- 0 -->\n<g id=\"node1\" class=\"node\">\n<title>0</title>\n<path fill=\"#f4cbae\" stroke=\"#000000\" d=\"M561,-365C561,-365 453,-365 453,-365 447,-365 441,-359 441,-353 441,-353 441,-309 441,-309 441,-303 447,-297 453,-297 453,-297 561,-297 561,-297 567,-297 573,-303 573,-309 573,-309 573,-353 573,-353 573,-359 567,-365 561,-365\"/>\n<text text-anchor=\"start\" x=\"463.5\" y=\"-349.8\" font-family=\"Helvetica,sans-Serif\" font-size=\"14.00\" fill=\"#000000\">Title_Mr ≤ 0.5</text>\n<text text-anchor=\"start\" x=\"469\" y=\"-334.8\" font-family=\"Helvetica,sans-Serif\" font-size=\"14.00\" fill=\"#000000\">gini = 0.467</text>\n<text text-anchor=\"start\" x=\"459\" y=\"-319.8\" font-family=\"Helvetica,sans-Serif\" font-size=\"14.00\" fill=\"#000000\">samples = 623</text>\n<text text-anchor=\"start\" x=\"449\" y=\"-304.8\" font-family=\"Helvetica,sans-Serif\" font-size=\"14.00\" fill=\"#000000\">value = [392, 231]</text>\n</g>\n<!-- 1 -->\n<g id=\"node2\" class=\"node\">\n<title>1</title>\n<path fill=\"#95cbf1\" stroke=\"#000000\" d=\"M431,-261C431,-261 331,-261 331,-261 325,-261 319,-255 319,-249 319,-249 319,-205 319,-205 319,-199 325,-193 331,-193 331,-193 431,-193 431,-193 437,-193 443,-199 443,-205 443,-205 443,-249 443,-249 443,-255 437,-261 431,-261\"/>\n<text text-anchor=\"start\" x=\"333\" y=\"-245.8\" font-family=\"Helvetica,sans-Serif\" font-size=\"14.00\" fill=\"#000000\">Pclass_3 ≤ 0.5</text>\n<text text-anchor=\"start\" x=\"343\" y=\"-230.8\" font-family=\"Helvetica,sans-Serif\" font-size=\"14.00\" fill=\"#000000\">gini = 0.433</text>\n<text text-anchor=\"start\" x=\"333\" y=\"-215.8\" font-family=\"Helvetica,sans-Serif\" font-size=\"14.00\" fill=\"#000000\">samples = 255</text>\n<text text-anchor=\"start\" x=\"327\" y=\"-200.8\" font-family=\"Helvetica,sans-Serif\" font-size=\"14.00\" fill=\"#000000\">value = [81, 174]</text>\n</g>\n<!-- 0&#45;&gt;1 -->\n<g id=\"edge1\" class=\"edge\">\n<title>0&#45;&gt;1</title>\n<path fill=\"none\" stroke=\"#000000\" d=\"M465.7429,-296.9465C454.4299,-287.6088 442.0508,-277.3911 430.3342,-267.7203\"/>\n<polygon fill=\"#000000\" stroke=\"#000000\" points=\"432.29,-264.7964 422.3498,-261.13 427.8341,-270.195 432.29,-264.7964\"/>\n<text text-anchor=\"middle\" x=\"424.7302\" y=\"-282.3164\" font-family=\"Helvetica,sans-Serif\" font-size=\"14.00\" fill=\"#000000\">True</text>\n</g>\n<!-- 8 -->\n<g id=\"node9\" class=\"node\">\n<title>8</title>\n<path fill=\"#ea985d\" stroke=\"#000000\" d=\"M684,-261C684,-261 584,-261 584,-261 578,-261 572,-255 572,-249 572,-249 572,-205 572,-205 572,-199 578,-193 584,-193 584,-193 684,-193 684,-193 690,-193 696,-199 696,-205 696,-205 696,-249 696,-249 696,-255 690,-261 684,-261\"/>\n<text text-anchor=\"start\" x=\"588.5\" y=\"-245.8\" font-family=\"Helvetica,sans-Serif\" font-size=\"14.00\" fill=\"#000000\">Fare ≤ 52.277</text>\n<text text-anchor=\"start\" x=\"596\" y=\"-230.8\" font-family=\"Helvetica,sans-Serif\" font-size=\"14.00\" fill=\"#000000\">gini = 0.262</text>\n<text text-anchor=\"start\" x=\"586\" y=\"-215.8\" font-family=\"Helvetica,sans-Serif\" font-size=\"14.00\" fill=\"#000000\">samples = 368</text>\n<text text-anchor=\"start\" x=\"580\" y=\"-200.8\" font-family=\"Helvetica,sans-Serif\" font-size=\"14.00\" fill=\"#000000\">value = [311, 57]</text>\n</g>\n<!-- 0&#45;&gt;8 -->\n<g id=\"edge8\" class=\"edge\">\n<title>0&#45;&gt;8</title>\n<path fill=\"none\" stroke=\"#000000\" d=\"M548.5845,-296.9465C559.9873,-287.6088 572.4647,-277.3911 584.2743,-267.7203\"/>\n<polygon fill=\"#000000\" stroke=\"#000000\" points=\"586.8026,-270.1736 592.322,-261.13 582.3676,-264.7578 586.8026,-270.1736\"/>\n<text text-anchor=\"middle\" x=\"589.8451\" y=\"-282.307\" font-family=\"Helvetica,sans-Serif\" font-size=\"14.00\" fill=\"#000000\">False</text>\n</g>\n<!-- 2 -->\n<g id=\"node3\" class=\"node\">\n<title>2</title>\n<path fill=\"#4fa8e8\" stroke=\"#000000\" d=\"M238,-157C238,-157 134,-157 134,-157 128,-157 122,-151 122,-145 122,-145 122,-101 122,-101 122,-95 128,-89 134,-89 134,-89 238,-89 238,-89 244,-89 250,-95 250,-101 250,-101 250,-145 250,-145 250,-151 244,-157 238,-157\"/>\n<text text-anchor=\"start\" x=\"130\" y=\"-141.8\" font-family=\"Helvetica,sans-Serif\" font-size=\"14.00\" fill=\"#000000\">Title_Officer ≤ 0.5</text>\n<text text-anchor=\"start\" x=\"152.5\" y=\"-126.8\" font-family=\"Helvetica,sans-Serif\" font-size=\"14.00\" fill=\"#000000\">gini = 0.18</text>\n<text text-anchor=\"start\" x=\"138\" y=\"-111.8\" font-family=\"Helvetica,sans-Serif\" font-size=\"14.00\" fill=\"#000000\">samples = 130</text>\n<text text-anchor=\"start\" x=\"132\" y=\"-96.8\" font-family=\"Helvetica,sans-Serif\" font-size=\"14.00\" fill=\"#000000\">value = [13, 117]</text>\n</g>\n<!-- 1&#45;&gt;2 -->\n<g id=\"edge2\" class=\"edge\">\n<title>1&#45;&gt;2</title>\n<path fill=\"none\" stroke=\"#000000\" d=\"M318.7646,-193.8078C299.7231,-183.6523 278.6076,-172.3907 258.9221,-161.8918\"/>\n<polygon fill=\"#000000\" stroke=\"#000000\" points=\"260.4612,-158.746 249.9906,-157.1283 257.167,-164.9225 260.4612,-158.746\"/>\n</g>\n<!-- 5 -->\n<g id=\"node6\" class=\"node\">\n<title>5</title>\n<path fill=\"#fbebdf\" stroke=\"#000000\" d=\"M427,-157C427,-157 335,-157 335,-157 329,-157 323,-151 323,-145 323,-145 323,-101 323,-101 323,-95 329,-89 335,-89 335,-89 427,-89 427,-89 433,-89 439,-95 439,-101 439,-101 439,-145 439,-145 439,-151 433,-157 427,-157\"/>\n<text text-anchor=\"start\" x=\"340\" y=\"-141.8\" font-family=\"Helvetica,sans-Serif\" font-size=\"14.00\" fill=\"#000000\">Fare ≤ 23.35</text>\n<text text-anchor=\"start\" x=\"343\" y=\"-126.8\" font-family=\"Helvetica,sans-Serif\" font-size=\"14.00\" fill=\"#000000\">gini = 0.496</text>\n<text text-anchor=\"start\" x=\"333\" y=\"-111.8\" font-family=\"Helvetica,sans-Serif\" font-size=\"14.00\" fill=\"#000000\">samples = 125</text>\n<text text-anchor=\"start\" x=\"331\" y=\"-96.8\" font-family=\"Helvetica,sans-Serif\" font-size=\"14.00\" fill=\"#000000\">value = [68, 57]</text>\n</g>\n<!-- 1&#45;&gt;5 -->\n<g id=\"edge5\" class=\"edge\">\n<title>1&#45;&gt;5</title>\n<path fill=\"none\" stroke=\"#000000\" d=\"M381,-192.9465C381,-184.776 381,-175.9318 381,-167.3697\"/>\n<polygon fill=\"#000000\" stroke=\"#000000\" points=\"384.5001,-167.13 381,-157.13 377.5001,-167.13 384.5001,-167.13\"/>\n</g>\n<!-- 3 -->\n<g id=\"node4\" class=\"node\">\n<title>3</title>\n<path fill=\"#40a0e6\" stroke=\"#000000\" d=\"M104,-53C104,-53 12,-53 12,-53 6,-53 0,-47 0,-41 0,-41 0,-12 0,-12 0,-6 6,0 12,0 12,0 104,0 104,0 110,0 116,-6 116,-12 116,-12 116,-41 116,-41 116,-47 110,-53 104,-53\"/>\n<text text-anchor=\"start\" x=\"20\" y=\"-37.8\" font-family=\"Helvetica,sans-Serif\" font-size=\"14.00\" fill=\"#000000\">gini = 0.065</text>\n<text text-anchor=\"start\" x=\"10\" y=\"-22.8\" font-family=\"Helvetica,sans-Serif\" font-size=\"14.00\" fill=\"#000000\">samples = 119</text>\n<text text-anchor=\"start\" x=\"8\" y=\"-7.8\" font-family=\"Helvetica,sans-Serif\" font-size=\"14.00\" fill=\"#000000\">value = [4, 115]</text>\n</g>\n<!-- 2&#45;&gt;3 -->\n<g id=\"edge3\" class=\"edge\">\n<title>2&#45;&gt;3</title>\n<path fill=\"none\" stroke=\"#000000\" d=\"M140.872,-88.9777C128.1187,-79.3629 114.2673,-68.9203 101.6053,-59.3743\"/>\n<polygon fill=\"#000000\" stroke=\"#000000\" points=\"103.5719,-56.4737 93.4798,-53.2485 99.3579,-62.0632 103.5719,-56.4737\"/>\n</g>\n<!-- 4 -->\n<g id=\"node5\" class=\"node\">\n<title>4</title>\n<path fill=\"#eb9d65\" stroke=\"#000000\" d=\"M226,-53C226,-53 146,-53 146,-53 140,-53 134,-47 134,-41 134,-41 134,-12 134,-12 134,-6 140,0 146,0 146,0 226,0 226,0 232,0 238,-6 238,-12 238,-12 238,-41 238,-41 238,-47 232,-53 226,-53\"/>\n<text text-anchor=\"start\" x=\"148\" y=\"-37.8\" font-family=\"Helvetica,sans-Serif\" font-size=\"14.00\" fill=\"#000000\">gini = 0.298</text>\n<text text-anchor=\"start\" x=\"142\" y=\"-22.8\" font-family=\"Helvetica,sans-Serif\" font-size=\"14.00\" fill=\"#000000\">samples = 11</text>\n<text text-anchor=\"start\" x=\"144.5\" y=\"-7.8\" font-family=\"Helvetica,sans-Serif\" font-size=\"14.00\" fill=\"#000000\">value = [9, 2]</text>\n</g>\n<!-- 2&#45;&gt;4 -->\n<g id=\"edge4\" class=\"edge\">\n<title>2&#45;&gt;4</title>\n<path fill=\"none\" stroke=\"#000000\" d=\"M186,-88.9777C186,-80.7364 186,-71.887 186,-63.5153\"/>\n<polygon fill=\"#000000\" stroke=\"#000000\" points=\"189.5001,-63.2484 186,-53.2485 182.5001,-63.2485 189.5001,-63.2484\"/>\n</g>\n<!-- 6 -->\n<g id=\"node7\" class=\"node\">\n<title>6</title>\n<path fill=\"#bedff6\" stroke=\"#000000\" d=\"M360,-53C360,-53 268,-53 268,-53 262,-53 256,-47 256,-41 256,-41 256,-12 256,-12 256,-6 262,0 268,0 268,0 360,0 360,0 366,0 372,-6 372,-12 372,-12 372,-41 372,-41 372,-47 366,-53 360,-53\"/>\n<text text-anchor=\"start\" x=\"276\" y=\"-37.8\" font-family=\"Helvetica,sans-Serif\" font-size=\"14.00\" fill=\"#000000\">gini = 0.481</text>\n<text text-anchor=\"start\" x=\"270\" y=\"-22.8\" font-family=\"Helvetica,sans-Serif\" font-size=\"14.00\" fill=\"#000000\">samples = 92</text>\n<text text-anchor=\"start\" x=\"264\" y=\"-7.8\" font-family=\"Helvetica,sans-Serif\" font-size=\"14.00\" fill=\"#000000\">value = [37, 55]</text>\n</g>\n<!-- 5&#45;&gt;6 -->\n<g id=\"edge6\" class=\"edge\">\n<title>5&#45;&gt;6</title>\n<path fill=\"none\" stroke=\"#000000\" d=\"M357.3783,-88.9777C351.2113,-80.0954 344.5539,-70.5067 338.3499,-61.5711\"/>\n<polygon fill=\"#000000\" stroke=\"#000000\" points=\"341.1497,-59.4666 332.5715,-53.2485 335.3997,-63.4589 341.1497,-59.4666\"/>\n</g>\n<!-- 7 -->\n<g id=\"node8\" class=\"node\">\n<title>7</title>\n<path fill=\"#e78946\" stroke=\"#000000\" d=\"M485.5,-53C485.5,-53 402.5,-53 402.5,-53 396.5,-53 390.5,-47 390.5,-41 390.5,-41 390.5,-12 390.5,-12 390.5,-6 396.5,0 402.5,0 402.5,0 485.5,0 485.5,0 491.5,0 497.5,-6 497.5,-12 497.5,-12 497.5,-41 497.5,-41 497.5,-47 491.5,-53 485.5,-53\"/>\n<text text-anchor=\"start\" x=\"406\" y=\"-37.8\" font-family=\"Helvetica,sans-Serif\" font-size=\"14.00\" fill=\"#000000\">gini = 0.114</text>\n<text text-anchor=\"start\" x=\"400\" y=\"-22.8\" font-family=\"Helvetica,sans-Serif\" font-size=\"14.00\" fill=\"#000000\">samples = 33</text>\n<text text-anchor=\"start\" x=\"398.5\" y=\"-7.8\" font-family=\"Helvetica,sans-Serif\" font-size=\"14.00\" fill=\"#000000\">value = [31, 2]</text>\n</g>\n<!-- 5&#45;&gt;7 -->\n<g id=\"edge7\" class=\"edge\">\n<title>5&#45;&gt;7</title>\n<path fill=\"none\" stroke=\"#000000\" d=\"M403.2114,-88.9777C408.9504,-80.187 415.1412,-70.7044 420.9233,-61.8477\"/>\n<polygon fill=\"#000000\" stroke=\"#000000\" points=\"424.0013,-63.5354 426.5373,-53.2485 418.1398,-59.7087 424.0013,-63.5354\"/>\n</g>\n<!-- 9 -->\n<g id=\"node10\" class=\"node\">\n<title>9</title>\n<path fill=\"#e99355\" stroke=\"#000000\" d=\"M684,-157C684,-157 584,-157 584,-157 578,-157 572,-151 572,-145 572,-145 572,-101 572,-101 572,-95 578,-89 584,-89 584,-89 684,-89 684,-89 690,-89 696,-95 696,-101 696,-101 696,-145 696,-145 696,-151 690,-157 684,-157\"/>\n<text text-anchor=\"start\" x=\"599\" y=\"-141.8\" font-family=\"Helvetica,sans-Serif\" font-size=\"14.00\" fill=\"#000000\">Age ≤ 77.0</text>\n<text text-anchor=\"start\" x=\"596\" y=\"-126.8\" font-family=\"Helvetica,sans-Serif\" font-size=\"14.00\" fill=\"#000000\">gini = 0.216</text>\n<text text-anchor=\"start\" x=\"586\" y=\"-111.8\" font-family=\"Helvetica,sans-Serif\" font-size=\"14.00\" fill=\"#000000\">samples = 325</text>\n<text text-anchor=\"start\" x=\"580\" y=\"-96.8\" font-family=\"Helvetica,sans-Serif\" font-size=\"14.00\" fill=\"#000000\">value = [285, 40]</text>\n</g>\n<!-- 8&#45;&gt;9 -->\n<g id=\"edge9\" class=\"edge\">\n<title>8&#45;&gt;9</title>\n<path fill=\"none\" stroke=\"#000000\" d=\"M634,-192.9465C634,-184.776 634,-175.9318 634,-167.3697\"/>\n<polygon fill=\"#000000\" stroke=\"#000000\" points=\"637.5001,-167.13 634,-157.13 630.5001,-167.13 637.5001,-167.13\"/>\n</g>\n<!-- 12 -->\n<g id=\"node13\" class=\"node\">\n<title>12</title>\n<path fill=\"#f6d3ba\" stroke=\"#000000\" d=\"M874,-157C874,-157 782,-157 782,-157 776,-157 770,-151 770,-145 770,-145 770,-101 770,-101 770,-95 776,-89 782,-89 782,-89 874,-89 874,-89 880,-89 886,-95 886,-101 886,-101 886,-145 886,-145 886,-151 880,-157 874,-157\"/>\n<text text-anchor=\"start\" x=\"782.5\" y=\"-141.8\" font-family=\"Helvetica,sans-Serif\" font-size=\"14.00\" fill=\"#000000\">Fare ≤ 59.087</text>\n<text text-anchor=\"start\" x=\"790\" y=\"-126.8\" font-family=\"Helvetica,sans-Serif\" font-size=\"14.00\" fill=\"#000000\">gini = 0.478</text>\n<text text-anchor=\"start\" x=\"784\" y=\"-111.8\" font-family=\"Helvetica,sans-Serif\" font-size=\"14.00\" fill=\"#000000\">samples = 43</text>\n<text text-anchor=\"start\" x=\"778\" y=\"-96.8\" font-family=\"Helvetica,sans-Serif\" font-size=\"14.00\" fill=\"#000000\">value = [26, 17]</text>\n</g>\n<!-- 8&#45;&gt;12 -->\n<g id=\"edge12\" class=\"edge\">\n<title>8&#45;&gt;12</title>\n<path fill=\"none\" stroke=\"#000000\" d=\"M696.1833,-193.6646C716.839,-182.5915 739.9233,-170.2164 760.931,-158.9545\"/>\n<polygon fill=\"#000000\" stroke=\"#000000\" points=\"762.6343,-162.0127 769.7941,-154.2032 759.327,-155.8432 762.6343,-162.0127\"/>\n</g>\n<!-- 10 -->\n<g id=\"node11\" class=\"node\">\n<title>10</title>\n<path fill=\"#e99254\" stroke=\"#000000\" d=\"M628,-53C628,-53 528,-53 528,-53 522,-53 516,-47 516,-41 516,-41 516,-12 516,-12 516,-6 522,0 528,0 528,0 628,0 628,0 634,0 640,-6 640,-12 640,-12 640,-41 640,-41 640,-47 634,-53 628,-53\"/>\n<text text-anchor=\"start\" x=\"540\" y=\"-37.8\" font-family=\"Helvetica,sans-Serif\" font-size=\"14.00\" fill=\"#000000\">gini = 0.212</text>\n<text text-anchor=\"start\" x=\"530\" y=\"-22.8\" font-family=\"Helvetica,sans-Serif\" font-size=\"14.00\" fill=\"#000000\">samples = 324</text>\n<text text-anchor=\"start\" x=\"524\" y=\"-7.8\" font-family=\"Helvetica,sans-Serif\" font-size=\"14.00\" fill=\"#000000\">value = [285, 39]</text>\n</g>\n<!-- 9&#45;&gt;10 -->\n<g id=\"edge10\" class=\"edge\">\n<title>9&#45;&gt;10</title>\n<path fill=\"none\" stroke=\"#000000\" d=\"M614.2565,-88.9777C609.2083,-80.2786 603.7669,-70.9018 598.6734,-62.1247\"/>\n<polygon fill=\"#000000\" stroke=\"#000000\" points=\"601.5689,-60.1409 593.5224,-53.2485 595.5145,-63.6544 601.5689,-60.1409\"/>\n</g>\n<!-- 11 -->\n<g id=\"node12\" class=\"node\">\n<title>11</title>\n<path fill=\"#399de5\" stroke=\"#000000\" d=\"M745.5,-53C745.5,-53 670.5,-53 670.5,-53 664.5,-53 658.5,-47 658.5,-41 658.5,-41 658.5,-12 658.5,-12 658.5,-6 664.5,0 670.5,0 670.5,0 745.5,0 745.5,0 751.5,0 757.5,-6 757.5,-12 757.5,-12 757.5,-41 757.5,-41 757.5,-47 751.5,-53 745.5,-53\"/>\n<text text-anchor=\"start\" x=\"678.5\" y=\"-37.8\" font-family=\"Helvetica,sans-Serif\" font-size=\"14.00\" fill=\"#000000\">gini = 0.0</text>\n<text text-anchor=\"start\" x=\"668.5\" y=\"-22.8\" font-family=\"Helvetica,sans-Serif\" font-size=\"14.00\" fill=\"#000000\">samples = 1</text>\n<text text-anchor=\"start\" x=\"666.5\" y=\"-7.8\" font-family=\"Helvetica,sans-Serif\" font-size=\"14.00\" fill=\"#000000\">value = [0, 1]</text>\n</g>\n<!-- 9&#45;&gt;11 -->\n<g id=\"edge11\" class=\"edge\">\n<title>9&#45;&gt;11</title>\n<path fill=\"none\" stroke=\"#000000\" d=\"M660.0896,-88.9777C666.9711,-80.0039 674.4056,-70.3089 681.3178,-61.295\"/>\n<polygon fill=\"#000000\" stroke=\"#000000\" points=\"684.1804,-63.3137 687.4882,-53.2485 678.6256,-59.0541 684.1804,-63.3137\"/>\n</g>\n<!-- 13 -->\n<g id=\"node14\" class=\"node\">\n<title>13</title>\n<path fill=\"#9ccef2\" stroke=\"#000000\" d=\"M868,-53C868,-53 788,-53 788,-53 782,-53 776,-47 776,-41 776,-41 776,-12 776,-12 776,-6 782,0 788,0 788,0 868,0 868,0 874,0 880,-6 880,-12 880,-12 880,-41 880,-41 880,-47 874,-53 868,-53\"/>\n<text text-anchor=\"start\" x=\"790\" y=\"-37.8\" font-family=\"Helvetica,sans-Serif\" font-size=\"14.00\" fill=\"#000000\">gini = 0.444</text>\n<text text-anchor=\"start\" x=\"784\" y=\"-22.8\" font-family=\"Helvetica,sans-Serif\" font-size=\"14.00\" fill=\"#000000\">samples = 12</text>\n<text text-anchor=\"start\" x=\"786.5\" y=\"-7.8\" font-family=\"Helvetica,sans-Serif\" font-size=\"14.00\" fill=\"#000000\">value = [4, 8]</text>\n</g>\n<!-- 12&#45;&gt;13 -->\n<g id=\"edge13\" class=\"edge\">\n<title>12&#45;&gt;13</title>\n<path fill=\"none\" stroke=\"#000000\" d=\"M828,-88.9777C828,-80.7364 828,-71.887 828,-63.5153\"/>\n<polygon fill=\"#000000\" stroke=\"#000000\" points=\"831.5001,-63.2484 828,-53.2485 824.5001,-63.2485 831.5001,-63.2484\"/>\n</g>\n<!-- 14 -->\n<g id=\"node15\" class=\"node\">\n<title>14</title>\n<path fill=\"#f0b58a\" stroke=\"#000000\" d=\"M993.5,-53C993.5,-53 910.5,-53 910.5,-53 904.5,-53 898.5,-47 898.5,-41 898.5,-41 898.5,-12 898.5,-12 898.5,-6 904.5,0 910.5,0 910.5,0 993.5,0 993.5,0 999.5,0 1005.5,-6 1005.5,-12 1005.5,-12 1005.5,-41 1005.5,-41 1005.5,-47 999.5,-53 993.5,-53\"/>\n<text text-anchor=\"start\" x=\"914\" y=\"-37.8\" font-family=\"Helvetica,sans-Serif\" font-size=\"14.00\" fill=\"#000000\">gini = 0.412</text>\n<text text-anchor=\"start\" x=\"908\" y=\"-22.8\" font-family=\"Helvetica,sans-Serif\" font-size=\"14.00\" fill=\"#000000\">samples = 31</text>\n<text text-anchor=\"start\" x=\"906.5\" y=\"-7.8\" font-family=\"Helvetica,sans-Serif\" font-size=\"14.00\" fill=\"#000000\">value = [22, 9]</text>\n</g>\n<!-- 12&#45;&gt;14 -->\n<g id=\"edge14\" class=\"edge\">\n<title>12&#45;&gt;14</title>\n<path fill=\"none\" stroke=\"#000000\" d=\"M871.7178,-88.9777C883.9549,-79.4545 897.2355,-69.1191 909.4066,-59.6473\"/>\n<polygon fill=\"#000000\" stroke=\"#000000\" points=\"911.8866,-62.1523 917.6289,-53.2485 907.5875,-56.628 911.8866,-62.1523\"/>\n</g>\n</g>\n</svg>\n"
          },
          "metadata": {
            "tags": []
          }
        }
      ]
    },
    {
      "cell_type": "markdown",
      "metadata": {
        "id": "56Gn8h0bIhZ3"
      },
      "source": [
        "Computo la ROC curve"
      ]
    },
    {
      "cell_type": "code",
      "metadata": {
        "colab": {
          "base_uri": "https://localhost:8080/",
          "height": 0
        },
        "id": "iQw_dofOIkOR",
        "outputId": "5e21ff91-4d9d-4db4-a860-a358ebe82b1c"
      },
      "source": [
        "plot_roc_curve(dtc, X_test, y_test)\n",
        "plt.show"
      ],
      "execution_count": 46,
      "outputs": [
        {
          "output_type": "execute_result",
          "data": {
            "text/plain": [
              "<function matplotlib.pyplot.show>"
            ]
          },
          "metadata": {
            "tags": []
          },
          "execution_count": 46
        },
        {
          "output_type": "display_data",
          "data": {
            "image/png": "[encoded data removed]",
            "text/plain": [
              "<Figure size 432x288 with 1 Axes>"
            ]
          },
          "metadata": {
            "tags": [],
            "needs_background": "light"
          }
        }
      ]
    },
    {
      "cell_type": "markdown",
      "metadata": {
        "id": "ATvyWH93q3DO"
      },
      "source": [
        "Provo a usare la cross validation\n",
        "\n"
      ]
    },
    {
      "cell_type": "code",
      "metadata": {
        "colab": {
          "base_uri": "https://localhost:8080/"
        },
        "id": "uY06nKfMK1ZJ",
        "outputId": "10e40b86-0541-4780-f4b5-b717d61a5e32"
      },
      "source": [
        "cv_scores = cross_val_score(\n",
        "    dtc, train_full, target, cv=20, scoring=\"accuracy\", verbose=1\n",
        ")"
      ],
      "execution_count": 47,
      "outputs": [
        {
          "output_type": "stream",
          "text": [
            "[Parallel(n_jobs=1)]: Using backend SequentialBackend with 1 concurrent workers.\n",
            "[Parallel(n_jobs=1)]: Done  20 out of  20 | elapsed:    0.1s finished\n"
          ],
          "name": "stderr"
        }
      ]
    },
    {
      "cell_type": "code",
      "metadata": {
        "colab": {
          "base_uri": "https://localhost:8080/",
          "height": 0
        },
        "id": "BQcdgoG-LDXf",
        "outputId": "ddcddb56-0a7e-4f56-f06b-41b233ab756b"
      },
      "source": [
        "sns.distplot(cv_scores, color=\"#40ad3d\");\n",
        "plt.title(\"Punteggio medio = {}\".format(np.mean(cv_scores)));"
      ],
      "execution_count": 48,
      "outputs": [
        {
          "output_type": "stream",
          "text": [
            "/usr/local/lib/python3.7/dist-packages/seaborn/distributions.py:2557: FutureWarning: `distplot` is a deprecated function and will be removed in a future version. Please adapt your code to use either `displot` (a figure-level function with similar flexibility) or `histplot` (an axes-level function for histograms).\n",
            "  warnings.warn(msg, FutureWarning)\n"
          ],
          "name": "stderr"
        },
        {
          "output_type": "display_data",
          "data": {
            "image/png": "[encoded data removed]",
            "text/plain": [
              "<Figure size 432x288 with 1 Axes>"
            ]
          },
          "metadata": {
            "tags": [],
            "needs_background": "light"
          }
        }
      ]
    },
    {
      "cell_type": "code",
      "metadata": {
        "id": "SueVw7stSwBj"
      },
      "source": [
        "dtc.fit(train_full, target)\n",
        "y_pred_dtc=dtc.predict(test)\n",
        "#y_pred_dtc"
      ],
      "execution_count": 49,
      "outputs": []
    },
    {
      "cell_type": "markdown",
      "metadata": {
        "id": "y9T1COckMWXg"
      },
      "source": [
        "###con grid search"
      ]
    },
    {
      "cell_type": "code",
      "metadata": {
        "colab": {
          "base_uri": "https://localhost:8080/"
        },
        "id": "gPtA68Y0Mbc7",
        "outputId": "3d0fd250-5b99-415f-8eb1-5e5724e5b077"
      },
      "source": [
        "dtc_grid = DecisionTreeClassifier(random_state=42)\n",
        "# Create the parameter grids\n",
        "parameter_grid = {\n",
        "    \"criterion\": [\"gini\", \"entropy\"],\n",
        "    \"splitter\": [\"best\", \"random\"],\n",
        "    \"max_depth\": [3, 4, 5, 6, 7],\n",
        "    \"max_features\": [\"auto\", \"sqrt\", \"log2\", None],\n",
        "    \"random_state\": [42, 2021]\n",
        "}\n",
        "\n",
        "# Create Stratified folds\n",
        "cross_validation = StratifiedKFold(n_splits=20)\n",
        "cross_validation.get_n_splits(train_full,target)\n",
        "\n",
        "# Create the scoring dictionary\n",
        "SCORING = {\n",
        "    \"accuracy\": \"accuracy\",\n",
        "    \"balanced_accuracy\": \"balanced_accuracy\",\n",
        "    \"f1\": \"f1_macro\",\n",
        "}\n",
        "\n",
        "# Create and fit the GridSearchCV\n",
        "grid_search = GridSearchCV(\n",
        "    estimator=dtc_grid,\n",
        "    param_grid=parameter_grid,\n",
        "    cv=cross_validation,\n",
        "    verbose=1,\n",
        "    scoring=SCORING,\n",
        "    return_train_score=True,\n",
        "    refit=\"accuracy\",\n",
        ")\n",
        "\n",
        "grid_search.fit(train_full, target)"
      ],
      "execution_count": 50,
      "outputs": [
        {
          "output_type": "stream",
          "text": [
            "Fitting 20 folds for each of 160 candidates, totalling 3200 fits\n"
          ],
          "name": "stdout"
        },
        {
          "output_type": "stream",
          "text": [
            "[Parallel(n_jobs=1)]: Using backend SequentialBackend with 1 concurrent workers.\n",
            "[Parallel(n_jobs=1)]: Done 3200 out of 3200 | elapsed:   25.8s finished\n"
          ],
          "name": "stderr"
        },
        {
          "output_type": "execute_result",
          "data": {
            "text/plain": [
              "GridSearchCV(cv=StratifiedKFold(n_splits=20, random_state=None, shuffle=False),\n",
              "             error_score=nan,\n",
              "             estimator=DecisionTreeClassifier(ccp_alpha=0.0, class_weight=None,\n",
              "                                              criterion='gini', max_depth=None,\n",
              "                                              max_features=None,\n",
              "                                              max_leaf_nodes=None,\n",
              "                                              min_impurity_decrease=0.0,\n",
              "                                              min_impurity_split=None,\n",
              "                                              min_samples_leaf=1,\n",
              "                                              min_samples_split=2,\n",
              "                                              min_weight_fraction_leaf=0.0,\n",
              "                                              pres...\n",
              "             iid='deprecated', n_jobs=None,\n",
              "             param_grid={'criterion': ['gini', 'entropy'],\n",
              "                         'max_depth': [3, 4, 5, 6, 7],\n",
              "                         'max_features': ['auto', 'sqrt', 'log2', None],\n",
              "                         'random_state': [42, 2021],\n",
              "                         'splitter': ['best', 'random']},\n",
              "             pre_dispatch='2*n_jobs', refit='accuracy', return_train_score=True,\n",
              "             scoring={'accuracy': 'accuracy',\n",
              "                      'balanced_accuracy': 'balanced_accuracy',\n",
              "                      'f1': 'f1_macro'},\n",
              "             verbose=1)"
            ]
          },
          "metadata": {
            "tags": []
          },
          "execution_count": 50
        }
      ]
    },
    {
      "cell_type": "code",
      "metadata": {
        "id": "raYCX3HINnIw",
        "colab": {
          "base_uri": "https://localhost:8080/"
        },
        "outputId": "b629027b-d657-4dfe-fcd2-5d37bb42a4e4"
      },
      "source": [
        "print(\"Migliore score: {}\".format(grid_search.best_score_))\n",
        "print(\"Migliori parametri: {}\".format(grid_search.best_params_))\n",
        "\n",
        "best_dtc = grid_search.best_estimator_\n",
        "best_dtc"
      ],
      "execution_count": 51,
      "outputs": [
        {
          "output_type": "stream",
          "text": [
            "Migliore score: 0.8374242424242425\n",
            "Migliori parametri: {'criterion': 'entropy', 'max_depth': 6, 'max_features': None, 'random_state': 2021, 'splitter': 'random'}\n"
          ],
          "name": "stdout"
        },
        {
          "output_type": "execute_result",
          "data": {
            "text/plain": [
              "DecisionTreeClassifier(ccp_alpha=0.0, class_weight=None, criterion='entropy',\n",
              "                       max_depth=6, max_features=None, max_leaf_nodes=None,\n",
              "                       min_impurity_decrease=0.0, min_impurity_split=None,\n",
              "                       min_samples_leaf=1, min_samples_split=2,\n",
              "                       min_weight_fraction_leaf=0.0, presort='deprecated',\n",
              "                       random_state=2021, splitter='random')"
            ]
          },
          "metadata": {
            "tags": []
          },
          "execution_count": 51
        }
      ]
    },
    {
      "cell_type": "code",
      "metadata": {
        "id": "D0ih1IxkNrEI",
        "colab": {
          "base_uri": "https://localhost:8080/"
        },
        "outputId": "2c861172-1d74-4118-a5af-bc2cf8c3b950"
      },
      "source": [
        "best_dtc.fit(train_full, target)\n",
        "best_dtc.score(train_full, target)"
      ],
      "execution_count": 52,
      "outputs": [
        {
          "output_type": "execute_result",
          "data": {
            "text/plain": [
              "0.8664421997755332"
            ]
          },
          "metadata": {
            "tags": []
          },
          "execution_count": 52
        }
      ]
    },
    {
      "cell_type": "code",
      "metadata": {
        "id": "GlkKjUBkcX-2"
      },
      "source": [
        "y_pred_dtc_grid = best_dtc.predict(test)\n",
        "#y_pred_dtc_grid"
      ],
      "execution_count": 53,
      "outputs": []
    },
    {
      "cell_type": "code",
      "metadata": {
        "id": "G7vwzsBsPTyy",
        "colab": {
          "base_uri": "https://localhost:8080/",
          "height": 0
        },
        "outputId": "1ece0983-8bce-4c3a-ede7-2fd7dee1e7df"
      },
      "source": [
        "plot_roc_curve(best_dtc, X_test, y_test)\n",
        "plt.show"
      ],
      "execution_count": 54,
      "outputs": [
        {
          "output_type": "execute_result",
          "data": {
            "text/plain": [
              "<function matplotlib.pyplot.show>"
            ]
          },
          "metadata": {
            "tags": []
          },
          "execution_count": 54
        },
        {
          "output_type": "display_data",
          "data": {
            "image/png": "[encoded data removed]",
            "text/plain": [
              "<Figure size 432x288 with 1 Axes>"
            ]
          },
          "metadata": {
            "tags": [],
            "needs_background": "light"
          }
        }
      ]
    },
    {
      "cell_type": "markdown",
      "metadata": {
        "id": "tooSsm01Pi_-"
      },
      "source": [
        "##Neural Networks"
      ]
    },
    {
      "cell_type": "markdown",
      "metadata": {
        "id": "LA0AXS4bRg7y"
      },
      "source": [
        "###Semplice rete neurale con uno strato nascosto"
      ]
    },
    {
      "cell_type": "markdown",
      "metadata": {
        "id": "R5iDaEy1sQMI"
      },
      "source": [
        "Uso il train splittato per avere un test"
      ]
    },
    {
      "cell_type": "code",
      "metadata": {
        "id": "QLp9ogZ_Psjo"
      },
      "source": [
        "# Initialize the constructor\n",
        "neural_model = Sequential()\n",
        "# Add an input layer\n",
        "neural_model.add(Dense(26, activation=\"relu\", input_shape=(26,)))\n",
        "# Add one hidden layer\n",
        "neural_model.add(Dense(20, activation=\"relu\"))\n",
        "# Add an output layer\n",
        "neural_model.add(Dense(1, activation=\"sigmoid\"))"
      ],
      "execution_count": 55,
      "outputs": []
    },
    {
      "cell_type": "code",
      "metadata": {
        "id": "gmlfqnXjQd-s"
      },
      "source": [
        "EPOCHS = 30\n",
        "VAL_SIZE = 0.3\n",
        "BATCH_SIZE = 80"
      ],
      "execution_count": 56,
      "outputs": []
    },
    {
      "cell_type": "code",
      "metadata": {
        "id": "d0QCnuysQXdZ",
        "colab": {
          "base_uri": "https://localhost:8080/"
        },
        "outputId": "70e30ec9-3f7e-4ed8-f02f-976496826049"
      },
      "source": [
        "neural_model.compile(\n",
        "    loss=\"binary_crossentropy\",\n",
        "    optimizer=\"SGD\",\n",
        "    metrics=[\"accuracy\", tf.keras.metrics.AUC()],\n",
        ")\n",
        "\n",
        "training_phase = neural_model.fit(\n",
        "    X_train,\n",
        "    y_train,\n",
        "    epochs=EPOCHS,\n",
        "    batch_size=BATCH_SIZE,\n",
        "    validation_split=VAL_SIZE,\n",
        "    verbose=1,\n",
        ")"
      ],
      "execution_count": 57,
      "outputs": [
        {
          "output_type": "stream",
          "text": [
            "Epoch 1/30\n",
            "6/6 [==============================] - 1s 69ms/step - loss: 1.3624 - accuracy: 0.6468 - auc: 0.6126 - val_loss: 2.6097 - val_accuracy: 0.3636 - val_auc: 0.6657\n",
            "Epoch 2/30\n",
            "6/6 [==============================] - 0s 7ms/step - loss: 1.1570 - accuracy: 0.6239 - auc: 0.6101 - val_loss: 0.9272 - val_accuracy: 0.3476 - val_auc: 0.5060\n",
            "Epoch 3/30\n",
            "6/6 [==============================] - 0s 7ms/step - loss: 0.7116 - accuracy: 0.6422 - auc: 0.6298 - val_loss: 0.7698 - val_accuracy: 0.5829 - val_auc: 0.6670\n",
            "Epoch 4/30\n",
            "6/6 [==============================] - 0s 7ms/step - loss: 0.6527 - accuracy: 0.6812 - auc: 0.6630 - val_loss: 0.7451 - val_accuracy: 0.6524 - val_auc: 0.6533\n",
            "Epoch 5/30\n",
            "6/6 [==============================] - 0s 6ms/step - loss: 0.6674 - accuracy: 0.7064 - auc: 0.6965 - val_loss: 0.6952 - val_accuracy: 0.6471 - val_auc: 0.6473\n",
            "Epoch 6/30\n",
            "6/6 [==============================] - 0s 6ms/step - loss: 0.6222 - accuracy: 0.7087 - auc: 0.6919 - val_loss: 0.6945 - val_accuracy: 0.5615 - val_auc: 0.6379\n",
            "Epoch 7/30\n",
            "6/6 [==============================] - 0s 6ms/step - loss: 0.6841 - accuracy: 0.6904 - auc: 0.6566 - val_loss: 0.6606 - val_accuracy: 0.6524 - val_auc: 0.6425\n",
            "Epoch 8/30\n",
            "6/6 [==============================] - 0s 5ms/step - loss: 0.6487 - accuracy: 0.6881 - auc: 0.6729 - val_loss: 0.7030 - val_accuracy: 0.5722 - val_auc: 0.6713\n",
            "Epoch 9/30\n",
            "6/6 [==============================] - 0s 6ms/step - loss: 0.7381 - accuracy: 0.6766 - auc: 0.6571 - val_loss: 0.6728 - val_accuracy: 0.6578 - val_auc: 0.6552\n",
            "Epoch 10/30\n",
            "6/6 [==============================] - 0s 6ms/step - loss: 0.6276 - accuracy: 0.6995 - auc: 0.6948 - val_loss: 0.6393 - val_accuracy: 0.6417 - val_auc: 0.6365\n",
            "Epoch 11/30\n",
            "6/6 [==============================] - 0s 7ms/step - loss: 0.6065 - accuracy: 0.7064 - auc: 0.6996 - val_loss: 0.6700 - val_accuracy: 0.6310 - val_auc: 0.6313\n",
            "Epoch 12/30\n",
            "6/6 [==============================] - 0s 6ms/step - loss: 0.6391 - accuracy: 0.6720 - auc: 0.6591 - val_loss: 0.6292 - val_accuracy: 0.6417 - val_auc: 0.6787\n",
            "Epoch 13/30\n",
            "6/6 [==============================] - 0s 6ms/step - loss: 0.6575 - accuracy: 0.6697 - auc: 0.6626 - val_loss: 0.6316 - val_accuracy: 0.6684 - val_auc: 0.6833\n",
            "Epoch 14/30\n",
            "6/6 [==============================] - 0s 6ms/step - loss: 0.6188 - accuracy: 0.7110 - auc: 0.6911 - val_loss: 0.6472 - val_accuracy: 0.6364 - val_auc: 0.6323\n",
            "Epoch 15/30\n",
            "6/6 [==============================] - 0s 6ms/step - loss: 0.6175 - accuracy: 0.6881 - auc: 0.6855 - val_loss: 0.6290 - val_accuracy: 0.6898 - val_auc: 0.6885\n",
            "Epoch 16/30\n",
            "6/6 [==============================] - 0s 8ms/step - loss: 0.5927 - accuracy: 0.7110 - auc: 0.7207 - val_loss: 0.6522 - val_accuracy: 0.6898 - val_auc: 0.6954\n",
            "Epoch 17/30\n",
            "6/6 [==============================] - 0s 7ms/step - loss: 0.5925 - accuracy: 0.7156 - auc: 0.7217 - val_loss: 0.6824 - val_accuracy: 0.5936 - val_auc: 0.6820\n",
            "Epoch 18/30\n",
            "6/6 [==============================] - 0s 6ms/step - loss: 0.6292 - accuracy: 0.6674 - auc: 0.6675 - val_loss: 0.7323 - val_accuracy: 0.6364 - val_auc: 0.6127\n",
            "Epoch 19/30\n",
            "6/6 [==============================] - 0s 6ms/step - loss: 0.6269 - accuracy: 0.6858 - auc: 0.6878 - val_loss: 0.6126 - val_accuracy: 0.6845 - val_auc: 0.6953\n",
            "Epoch 20/30\n",
            "6/6 [==============================] - 0s 6ms/step - loss: 0.5828 - accuracy: 0.7225 - auc: 0.7371 - val_loss: 0.6488 - val_accuracy: 0.6845 - val_auc: 0.7024\n",
            "Epoch 21/30\n",
            "6/6 [==============================] - 0s 6ms/step - loss: 0.5934 - accuracy: 0.7248 - auc: 0.7396 - val_loss: 0.6106 - val_accuracy: 0.6524 - val_auc: 0.6779\n",
            "Epoch 22/30\n",
            "6/6 [==============================] - 0s 6ms/step - loss: 0.5877 - accuracy: 0.7110 - auc: 0.7258 - val_loss: 0.6809 - val_accuracy: 0.6150 - val_auc: 0.7047\n",
            "Epoch 23/30\n",
            "6/6 [==============================] - 0s 6ms/step - loss: 0.5966 - accuracy: 0.7110 - auc: 0.7131 - val_loss: 0.6309 - val_accuracy: 0.6578 - val_auc: 0.6755\n",
            "Epoch 24/30\n",
            "6/6 [==============================] - 0s 6ms/step - loss: 0.6329 - accuracy: 0.6651 - auc: 0.6757 - val_loss: 0.6806 - val_accuracy: 0.6417 - val_auc: 0.7125\n",
            "Epoch 25/30\n",
            "6/6 [==============================] - 0s 6ms/step - loss: 0.5920 - accuracy: 0.7179 - auc: 0.7227 - val_loss: 0.6239 - val_accuracy: 0.6631 - val_auc: 0.7018\n",
            "Epoch 26/30\n",
            "6/6 [==============================] - 0s 6ms/step - loss: 0.5809 - accuracy: 0.7294 - auc: 0.7391 - val_loss: 0.6444 - val_accuracy: 0.6364 - val_auc: 0.6370\n",
            "Epoch 27/30\n",
            "6/6 [==============================] - 0s 6ms/step - loss: 0.6058 - accuracy: 0.6881 - auc: 0.6900 - val_loss: 0.6208 - val_accuracy: 0.6952 - val_auc: 0.7106\n",
            "Epoch 28/30\n",
            "6/6 [==============================] - 0s 7ms/step - loss: 0.5908 - accuracy: 0.6995 - auc: 0.7231 - val_loss: 0.6321 - val_accuracy: 0.6898 - val_auc: 0.7184\n",
            "Epoch 29/30\n",
            "6/6 [==============================] - 0s 7ms/step - loss: 0.5722 - accuracy: 0.7110 - auc: 0.7425 - val_loss: 0.6332 - val_accuracy: 0.6578 - val_auc: 0.6868\n",
            "Epoch 30/30\n",
            "6/6 [==============================] - 0s 6ms/step - loss: 0.6088 - accuracy: 0.7133 - auc: 0.7280 - val_loss: 0.6491 - val_accuracy: 0.6952 - val_auc: 0.7161\n"
          ],
          "name": "stdout"
        }
      ]
    },
    {
      "cell_type": "code",
      "metadata": {
        "id": "a1xm5wS5c9Dy",
        "colab": {
          "base_uri": "https://localhost:8080/",
          "height": 0
        },
        "outputId": "256bd747-ffc5-4e36-c813-7ed1b1a7fa30"
      },
      "source": [
        "# plot training history\n",
        "print(\"loss\")\n",
        "plt.plot(training_phase.history[\"loss\"], label=\"train\")\n",
        "plt.plot(training_phase.history[\"val_loss\"], label=\"validation\")\n",
        "plt.legend()\n",
        "plt.show()\n",
        "print(\"Accuracy\")\n",
        "plt.plot(training_phase.history[\"accuracy\"], label=\"train\")\n",
        "plt.plot(training_phase.history[\"val_accuracy\"], label=\"validation\")\n",
        "plt.legend()\n",
        "plt.show()"
      ],
      "execution_count": 58,
      "outputs": [
        {
          "output_type": "stream",
          "text": [
            "loss\n"
          ],
          "name": "stdout"
        },
        {
          "output_type": "display_data",
          "data": {
            "image/png": "[encoded data removed]",
            "text/plain": [
              "<Figure size 432x288 with 1 Axes>"
            ]
          },
          "metadata": {
            "tags": [],
            "needs_background": "light"
          }
        },
        {
          "output_type": "stream",
          "text": [
            "Accuracy\n"
          ],
          "name": "stdout"
        },
        {
          "output_type": "display_data",
          "data": {
            "image/png": "[encoded data removed]",
            "text/plain": [
              "<Figure size 432x288 with 1 Axes>"
            ]
          },
          "metadata": {
            "tags": [],
            "needs_background": "light"
          }
        }
      ]
    },
    {
      "cell_type": "code",
      "metadata": {
        "id": "odGIt6LVdodm",
        "colab": {
          "base_uri": "https://localhost:8080/"
        },
        "outputId": "ca831b35-3463-46fb-800c-2a46ffd6b8a7"
      },
      "source": [
        "y_pred = neural_model.predict(X_test)\n",
        "y_predicted = np.round(y_pred).astype(int)\n",
        "y_predicted = np.squeeze(y_predicted)\n",
        "print(y_predicted)"
      ],
      "execution_count": 59,
      "outputs": [
        {
          "output_type": "stream",
          "text": [
            "[0 0 0 1 0 1 0 0 0 0 1 0 0 0 0 1 0 0 1 0 0 1 0 0 0 0 0 0 0 0 0 0 0 0 0 0 1\n",
            " 0 0 0 1 0 0 0 0 0 0 0 0 1 0 1 0 1 0 1 0 1 1 0 0 0 0 0 0 0 1 0 0 1 0 1 0 1\n",
            " 0 0 0 1 0 0 0 0 1 0 0 1 1 1 0 0 0 0 1 0 0 0 0 0 0 0 0 0 1 0 0 0 0 1 0 0 1\n",
            " 0 1 1 1 0 0 0 0 0 0 1 0 1 0 1 1 1 0 0 0 0 0 1 0 0 1 0 0 0 0 0 0 0 0 0 0 0\n",
            " 1 0 0 0 0 0 0 0 1 0 0 0 0 0 0 1 0 0 1 1 0 0 1 0 1 0 0 0 0 1 0 0 0 0 0 0 1\n",
            " 1 0 0 0 0 0 0 0 0 1 1 1 0 1 0 0 0 1 0 0 0 0 1 0 0 1 0 1 0 0 0 0 0 0 0 0 1\n",
            " 0 0 0 0 0 1 0 0 0 1 0 0 0 0 1 0 1 0 0 0 0 0 0 0 0 0 0 1 0 0 0 0 1 0 0 1 0\n",
            " 0 1 1 0 0 0 0 0 0]\n"
          ],
          "name": "stdout"
        }
      ]
    },
    {
      "cell_type": "code",
      "metadata": {
        "id": "WrqTMJG2v_a3",
        "colab": {
          "base_uri": "https://localhost:8080/"
        },
        "outputId": "76d1ab5d-7046-489f-f837-1b98d6058806"
      },
      "source": [
        "print(confusion_matrix(y_test, y_predicted))\n",
        "\n",
        "print(\"Classification Report:\")\n",
        "print(classification_report(y_test, y_predicted))"
      ],
      "execution_count": 60,
      "outputs": [
        {
          "output_type": "stream",
          "text": [
            "[[141  16]\n",
            " [ 62  49]]\n",
            "Classification Report:\n",
            "              precision    recall  f1-score   support\n",
            "\n",
            "           0       0.69      0.90      0.78       157\n",
            "           1       0.75      0.44      0.56       111\n",
            "\n",
            "    accuracy                           0.71       268\n",
            "   macro avg       0.72      0.67      0.67       268\n",
            "weighted avg       0.72      0.71      0.69       268\n",
            "\n"
          ],
          "name": "stdout"
        }
      ]
    },
    {
      "cell_type": "markdown",
      "metadata": {
        "id": "k8OqkwxBkoe8"
      },
      "source": [
        "Computo la ROC Curve"
      ]
    },
    {
      "cell_type": "code",
      "metadata": {
        "id": "ZB0QnT6Wkn0u",
        "colab": {
          "base_uri": "https://localhost:8080/",
          "height": 0
        },
        "outputId": "859e44db-cd94-4d08-ca2e-141622ad4711"
      },
      "source": [
        "nn_fpr_keras, nn_tpr_keras, nn_thresholds_keras = roc_curve(y_test, y_pred)\n",
        "auc_keras = auc(nn_fpr_keras, nn_tpr_keras)\n",
        "plt.plot(nn_fpr_keras, nn_tpr_keras, marker='.', label='Neural Network (auc = %0.3f)' % auc_keras)"
      ],
      "execution_count": 61,
      "outputs": [
        {
          "output_type": "execute_result",
          "data": {
            "text/plain": [
              "[<matplotlib.lines.Line2D at 0x7f79637c9dd0>]"
            ]
          },
          "metadata": {
            "tags": []
          },
          "execution_count": 61
        },
        {
          "output_type": "display_data",
          "data": {
            "image/png": "[encoded data removed]",
            "text/plain": [
              "<Figure size 432x288 with 1 Axes>"
            ]
          },
          "metadata": {
            "tags": [],
            "needs_background": "light"
          }
        }
      ]
    },
    {
      "cell_type": "markdown",
      "metadata": {
        "id": "Ayc2bH0BxVLF"
      },
      "source": [
        "###Uso la grid search per il Parameter Tuning"
      ]
    },
    {
      "cell_type": "markdown",
      "metadata": {
        "id": "6xQrmvtaySNk"
      },
      "source": [
        "Nell'ultima riga del blocco sotto c'è un problema che ti dicevo, abbiamo usato sempre nomi uguali e perdiamo i dati iniziali, dobbiamo cambiare un po' i nomi così che non si sovrascrivano e non abbiano problemi"
      ]
    },
    {
      "cell_type": "markdown",
      "metadata": {
        "id": "Gb7oHYmRveUk"
      },
      "source": [
        "Lui usa il preprocessor che è una funzione costruita da lui per gestire i dati di quel notebook che non va bene per il nostro, quindi l'ho escluso. C'è da controllare se va tutto bene lo stesso"
      ]
    },
    {
      "cell_type": "code",
      "metadata": {
        "id": "YO71Tp1NxYsy"
      },
      "source": [
        "# Create the parameter grids\n",
        "#parameter_grid = {\n",
        "#    \"hidden_units\": [(26, 15), (16, 10)],\n",
        "#    \"hidden_activation\": [\"relu\", \"sigmoid\"],\n",
        "#    \"epochs\": [20, 25, 30, 35],\n",
        "#    \"batch_size\": [50, 80, 100],\n",
        "#    \"verbose\": [0],\n",
        "#}\n",
        "\n",
        "# Create Stratified folds\n",
        "#cross_validation = StratifiedKFold(n_splits=3)\n",
        "#cross_validation.get_n_splits(train_full, target)\n",
        "\n",
        "# Create the scoring dictionary\n",
        "#SCORING = {\n",
        "#    \"accuracy\": \"accuracy\",\n",
        "#    \"balanced_accuracy\": \"balanced_accuracy\",\n",
        "#    \"f1\": \"f1_macro\",\n",
        "#}\n",
        "\n",
        "# Create and fit the GridSearchCV\n",
        "#grid_search = GridSearchCV(\n",
        "    #estimator=clf,\n",
        "#    estimator=keras_model_classifier,\n",
        "#    param_grid=parameter_grid,\n",
        "#    cv=cross_validation,\n",
        "#    verbose=1,\n",
        "#    scoring=SCORING,\n",
        "#    return_train_score=False,  # True,\n",
        "#    refit=\"accuracy\",\n",
        "#)\n",
        "\n",
        "# You can use X_train without manual preprocessing because preprocessor is built-in the classifier pipeline\n",
        "#grid_search.fit(train_full, target)"
      ],
      "execution_count": 62,
      "outputs": []
    },
    {
      "cell_type": "code",
      "metadata": {
        "id": "t4jvMsRb0OO5",
        "colab": {
          "base_uri": "https://localhost:8080/"
        },
        "outputId": "b20458ab-9257-4d02-b104-6a5d10e81214"
      },
      "source": [
        "print(\"Best score: {}\".format(grid_search.best_score_))\n",
        "print(\"Best parameters: {}\".format(grid_search.best_params_))\n",
        "\n",
        "best_clf = grid_search.best_estimator_\n",
        "best_clf\n",
        "\n",
        "# Best score: 0.712682379349046\n",
        "# Best parameters: {'batch_size': 50, 'epochs': 30, 'hidden_activation': 'relu', 'hidden_units': (26, 15), 'verbose': 0}"
      ],
      "execution_count": 63,
      "outputs": [
        {
          "output_type": "stream",
          "text": [
            "Best score: 0.8374242424242425\n",
            "Best parameters: {'criterion': 'entropy', 'max_depth': 6, 'max_features': None, 'random_state': 2021, 'splitter': 'random'}\n"
          ],
          "name": "stdout"
        },
        {
          "output_type": "execute_result",
          "data": {
            "text/plain": [
              "DecisionTreeClassifier(ccp_alpha=0.0, class_weight=None, criterion='entropy',\n",
              "                       max_depth=6, max_features=None, max_leaf_nodes=None,\n",
              "                       min_impurity_decrease=0.0, min_impurity_split=None,\n",
              "                       min_samples_leaf=1, min_samples_split=2,\n",
              "                       min_weight_fraction_leaf=0.0, presort='deprecated',\n",
              "                       random_state=2021, splitter='random')"
            ]
          },
          "metadata": {
            "tags": []
          },
          "execution_count": 63
        }
      ]
    },
    {
      "cell_type": "code",
      "metadata": {
        "id": "f-nI51y83hV7",
        "colab": {
          "base_uri": "https://localhost:8080/"
        },
        "outputId": "33e1005d-352b-4a9e-d80d-6c55b2a8636e"
      },
      "source": [
        "best_clf.score(train_full, target)"
      ],
      "execution_count": 64,
      "outputs": [
        {
          "output_type": "execute_result",
          "data": {
            "text/plain": [
              "0.8664421997755332"
            ]
          },
          "metadata": {
            "tags": []
          },
          "execution_count": 64
        }
      ]
    },
    {
      "cell_type": "code",
      "metadata": {
        "id": "3R6dvmJW4AnR",
        "colab": {
          "base_uri": "https://localhost:8080/"
        },
        "outputId": "724a5566-e31e-4dab-f1e4-88abdfa2cd45"
      },
      "source": [
        "y_pred = best_clf.predict(train_full)\n",
        "print(\"Confusion Matrix:\")\n",
        "print(confusion_matrix(target, y_pred))\n",
        "\n",
        "print(\"Classification Report:\")\n",
        "print(classification_report(target, y_pred))"
      ],
      "execution_count": 65,
      "outputs": [
        {
          "output_type": "stream",
          "text": [
            "Confusion Matrix:\n",
            "[[522  27]\n",
            " [ 92 250]]\n",
            "Classification Report:\n",
            "              precision    recall  f1-score   support\n",
            "\n",
            "           0       0.85      0.95      0.90       549\n",
            "           1       0.90      0.73      0.81       342\n",
            "\n",
            "    accuracy                           0.87       891\n",
            "   macro avg       0.88      0.84      0.85       891\n",
            "weighted avg       0.87      0.87      0.86       891\n",
            "\n"
          ],
          "name": "stdout"
        }
      ]
    },
    {
      "cell_type": "markdown",
      "metadata": {
        "id": "qa1WzFgE5eUJ"
      },
      "source": [
        "##Ensemble methods"
      ]
    },
    {
      "cell_type": "markdown",
      "metadata": {
        "id": "5ESHB0WO51V1"
      },
      "source": [
        "###Voting classifier"
      ]
    },
    {
      "cell_type": "code",
      "metadata": {
        "id": "6La0bW9u7wKl"
      },
      "source": [
        "dtc_clf = DecisionTreeClassifier(random_state=42, max_depth=6)\n",
        "log_clf = LogisticRegression(solver=\"lbfgs\", random_state=42, max_iter=700)\n",
        "rnd_clf = RandomForestClassifier(n_estimators=100, random_state=42)\n",
        "svm_clf = SVC(gamma=\"scale\", random_state=42)\n",
        "\n",
        "voting_clf = VotingClassifier(\n",
        "    estimators=[('dtc', dtc_clf), ('lg', log_clf), ('rf', rnd_clf), ('svc', svm_clf)],\n",
        "    voting='hard')"
      ],
      "execution_count": 66,
      "outputs": []
    },
    {
      "cell_type": "code",
      "metadata": {
        "id": "-R26TY6n7xcE",
        "colab": {
          "base_uri": "https://localhost:8080/"
        },
        "outputId": "48966588-9455-4b1c-94dc-249dff77654d"
      },
      "source": [
        "voting_clf.fit(X_train, y_train)"
      ],
      "execution_count": 67,
      "outputs": [
        {
          "output_type": "execute_result",
          "data": {
            "text/plain": [
              "VotingClassifier(estimators=[('dtc',\n",
              "                              DecisionTreeClassifier(ccp_alpha=0.0,\n",
              "                                                     class_weight=None,\n",
              "                                                     criterion='gini',\n",
              "                                                     max_depth=6,\n",
              "                                                     max_features=None,\n",
              "                                                     max_leaf_nodes=None,\n",
              "                                                     min_impurity_decrease=0.0,\n",
              "                                                     min_impurity_split=None,\n",
              "                                                     min_samples_leaf=1,\n",
              "                                                     min_samples_split=2,\n",
              "                                                     min_weight_fraction_leaf=0.0,\n",
              "                                                     presort='deprecated',\n",
              "                                                     random_state=42,\n",
              "                                                     splitter='best')),\n",
              "                             ('lg',\n",
              "                              LogisticRegre...\n",
              "                                                     oob_score=False,\n",
              "                                                     random_state=42, verbose=0,\n",
              "                                                     warm_start=False)),\n",
              "                             ('svc',\n",
              "                              SVC(C=1.0, break_ties=False, cache_size=200,\n",
              "                                  class_weight=None, coef0=0.0,\n",
              "                                  decision_function_shape='ovr', degree=3,\n",
              "                                  gamma='scale', kernel='rbf', max_iter=-1,\n",
              "                                  probability=False, random_state=42,\n",
              "                                  shrinking=True, tol=0.001, verbose=False))],\n",
              "                 flatten_transform=True, n_jobs=None, voting='hard',\n",
              "                 weights=None)"
            ]
          },
          "metadata": {
            "tags": []
          },
          "execution_count": 67
        }
      ]
    },
    {
      "cell_type": "code",
      "metadata": {
        "id": "fpPXonIS73-_",
        "colab": {
          "base_uri": "https://localhost:8080/"
        },
        "outputId": "e95b589d-968c-4ca7-c81e-c13a7402c1f5"
      },
      "source": [
        "for clf in (dtc_clf, log_clf, rnd_clf, svm_clf, voting_clf):\n",
        "    clf.fit(X_train, y_train)\n",
        "    y_pred = clf.predict(X_test)\n",
        "    print(clf.__class__.__name__, accuracy_score(y_test, y_pred))"
      ],
      "execution_count": 68,
      "outputs": [
        {
          "output_type": "stream",
          "text": [
            "DecisionTreeClassifier 0.8022388059701493\n",
            "LogisticRegression 0.8134328358208955\n",
            "RandomForestClassifier 0.7985074626865671\n",
            "SVC 0.6604477611940298\n",
            "VotingClassifier 0.7985074626865671\n"
          ],
          "name": "stdout"
        }
      ]
    },
    {
      "cell_type": "code",
      "metadata": {
        "id": "pFQDm3_Uvqd6"
      },
      "source": [
        "for clf in (dtc_clf, log_clf, rnd_clf, svm_clf, voting_clf):\n",
        "    clf.fit(train_full, target)\n",
        "y_pred_hardVot = voting_clf.predict(test)\n",
        "#y_pred_hardVot"
      ],
      "execution_count": 69,
      "outputs": []
    },
    {
      "cell_type": "markdown",
      "metadata": {
        "id": "IGGcuWqO9Kq2"
      },
      "source": [
        "con soft voting"
      ]
    },
    {
      "cell_type": "code",
      "metadata": {
        "id": "-jxzYQ-t9MlE",
        "colab": {
          "base_uri": "https://localhost:8080/"
        },
        "outputId": "1fadf1c6-0c71-4d1c-bda9-a679d4859ebd"
      },
      "source": [
        "dtc_clf = DecisionTreeClassifier(random_state=42, max_depth=6)\n",
        "log_clf = LogisticRegression(solver=\"lbfgs\", random_state=42, max_iter=700)\n",
        "rnd_clf = RandomForestClassifier(n_estimators=100, random_state=42)\n",
        "svm_clf = SVC(gamma=\"scale\", random_state=42, probability=True)\n",
        "\n",
        "soft_voting_clf = VotingClassifier(\n",
        "    estimators=[('dtc', dtc_clf), ('lg', log_clf), ('rf', rnd_clf), ('svc', svm_clf)],\n",
        "    voting='soft')\n",
        "soft_voting_clf.fit(X_train,y_train)"
      ],
      "execution_count": 70,
      "outputs": [
        {
          "output_type": "execute_result",
          "data": {
            "text/plain": [
              "VotingClassifier(estimators=[('dtc',\n",
              "                              DecisionTreeClassifier(ccp_alpha=0.0,\n",
              "                                                     class_weight=None,\n",
              "                                                     criterion='gini',\n",
              "                                                     max_depth=6,\n",
              "                                                     max_features=None,\n",
              "                                                     max_leaf_nodes=None,\n",
              "                                                     min_impurity_decrease=0.0,\n",
              "                                                     min_impurity_split=None,\n",
              "                                                     min_samples_leaf=1,\n",
              "                                                     min_samples_split=2,\n",
              "                                                     min_weight_fraction_leaf=0.0,\n",
              "                                                     presort='deprecated',\n",
              "                                                     random_state=42,\n",
              "                                                     splitter='best')),\n",
              "                             ('lg',\n",
              "                              LogisticRegre...\n",
              "                                                     oob_score=False,\n",
              "                                                     random_state=42, verbose=0,\n",
              "                                                     warm_start=False)),\n",
              "                             ('svc',\n",
              "                              SVC(C=1.0, break_ties=False, cache_size=200,\n",
              "                                  class_weight=None, coef0=0.0,\n",
              "                                  decision_function_shape='ovr', degree=3,\n",
              "                                  gamma='scale', kernel='rbf', max_iter=-1,\n",
              "                                  probability=True, random_state=42,\n",
              "                                  shrinking=True, tol=0.001, verbose=False))],\n",
              "                 flatten_transform=True, n_jobs=None, voting='soft',\n",
              "                 weights=None)"
            ]
          },
          "metadata": {
            "tags": []
          },
          "execution_count": 70
        }
      ]
    },
    {
      "cell_type": "code",
      "metadata": {
        "id": "5XhQVjRk9ZBV",
        "colab": {
          "base_uri": "https://localhost:8080/"
        },
        "outputId": "029abb23-f629-44d0-beb5-873cc88e8941"
      },
      "source": [
        "for clf in (dtc_clf, log_clf, rnd_clf, svm_clf, soft_voting_clf):\n",
        "    clf.fit(X_train, y_train)\n",
        "    y_pred = clf.predict(X_test)\n",
        "    print(clf.__class__.__name__, accuracy_score(y_test, y_pred))"
      ],
      "execution_count": 71,
      "outputs": [
        {
          "output_type": "stream",
          "text": [
            "DecisionTreeClassifier 0.8022388059701493\n",
            "LogisticRegression 0.8134328358208955\n",
            "RandomForestClassifier 0.7985074626865671\n",
            "SVC 0.6604477611940298\n",
            "VotingClassifier 0.8059701492537313\n"
          ],
          "name": "stdout"
        }
      ]
    },
    {
      "cell_type": "code",
      "metadata": {
        "id": "xA74Qt6VwfvJ"
      },
      "source": [
        "for clf in (log_clf, log_clf, rnd_clf, svm_clf, soft_voting_clf):\n",
        "    clf.fit(train_full, target)\n",
        "y_pred_softVot = soft_voting_clf.predict(test)\n",
        "#y_pred_softVot"
      ],
      "execution_count": 72,
      "outputs": []
    },
    {
      "cell_type": "markdown",
      "metadata": {
        "id": "903Yi19I_HFA"
      },
      "source": [
        "###Bagging"
      ]
    },
    {
      "cell_type": "code",
      "metadata": {
        "id": "P6djl2n1_MaA"
      },
      "source": [
        "bag_clf = BaggingClassifier(\n",
        "    DecisionTreeClassifier(random_state=42), n_estimators=150,\n",
        "    max_samples=150, bootstrap=True, random_state=42, oob_score=True)\n",
        "bag_clf.fit(X_train, y_train)\n",
        "y_pred = bag_clf.predict(X_test)"
      ],
      "execution_count": 73,
      "outputs": []
    },
    {
      "cell_type": "code",
      "metadata": {
        "id": "py_2w-T6_fKN",
        "colab": {
          "base_uri": "https://localhost:8080/"
        },
        "outputId": "51750047-8e77-4fc2-f5e4-415a6359e242"
      },
      "source": [
        "print(accuracy_score(y_test, y_pred))"
      ],
      "execution_count": 74,
      "outputs": [
        {
          "output_type": "stream",
          "text": [
            "0.8171641791044776\n"
          ],
          "name": "stdout"
        }
      ]
    },
    {
      "cell_type": "code",
      "metadata": {
        "id": "pFlqNJrTy1Aa"
      },
      "source": [
        "bag_clf.fit(train_full, target)\n",
        "y_pred_bagging = bag_clf.predict(test)\n",
        "#y_pred_bagging"
      ],
      "execution_count": 75,
      "outputs": []
    },
    {
      "cell_type": "markdown",
      "metadata": {
        "id": "EtwN51L2JeIH"
      },
      "source": [
        "Out of Bag evaluation"
      ]
    },
    {
      "cell_type": "code",
      "metadata": {
        "id": "jzI4Fr-2JhDx",
        "colab": {
          "base_uri": "https://localhost:8080/"
        },
        "outputId": "8bdbad24-9d0a-4d15-9adb-1aaee2fa9a03"
      },
      "source": [
        "bag_clf.oob_score_"
      ],
      "execution_count": 76,
      "outputs": [
        {
          "output_type": "execute_result",
          "data": {
            "text/plain": [
              "0.8260381593714927"
            ]
          },
          "metadata": {
            "tags": []
          },
          "execution_count": 76
        }
      ]
    },
    {
      "cell_type": "code",
      "metadata": {
        "id": "k1f4qEO6JpE9",
        "colab": {
          "base_uri": "https://localhost:8080/"
        },
        "outputId": "7be621ea-6d1e-4d62-d166-d209e3fee8c3"
      },
      "source": [
        "bag_clf.oob_decision_function_[:10]"
      ],
      "execution_count": 77,
      "outputs": [
        {
          "output_type": "execute_result",
          "data": {
            "text/plain": [
              "array([[0.9338843 , 0.0661157 ],\n",
              "       [0.024     , 0.976     ],\n",
              "       [0.58333333, 0.41666667],\n",
              "       [0.03816794, 0.96183206],\n",
              "       [0.92366412, 0.07633588],\n",
              "       [0.82539683, 0.17460317],\n",
              "       [0.77419355, 0.22580645],\n",
              "       [0.62204724, 0.37795276],\n",
              "       [0.56818182, 0.43181818],\n",
              "       [0.03875969, 0.96124031]])"
            ]
          },
          "metadata": {
            "tags": []
          },
          "execution_count": 77
        }
      ]
    },
    {
      "cell_type": "markdown",
      "metadata": {
        "id": "tPsEM-UbFTRd"
      },
      "source": [
        "###Random Forests"
      ]
    },
    {
      "cell_type": "code",
      "metadata": {
        "id": "d0Dj3o2zFtUb",
        "colab": {
          "base_uri": "https://localhost:8080/"
        },
        "outputId": "0715c009-380b-439f-847f-ceb8c0f0c4f7"
      },
      "source": [
        "from sklearn.ensemble import RandomForestClassifier\n",
        "\n",
        "rnd_clf = RandomForestClassifier(n_estimators=150, max_leaf_nodes=16, random_state=42)\n",
        "rnd_clf.fit(X_train, y_train)"
      ],
      "execution_count": 78,
      "outputs": [
        {
          "output_type": "execute_result",
          "data": {
            "text/plain": [
              "RandomForestClassifier(bootstrap=True, ccp_alpha=0.0, class_weight=None,\n",
              "                       criterion='gini', max_depth=None, max_features='auto',\n",
              "                       max_leaf_nodes=16, max_samples=None,\n",
              "                       min_impurity_decrease=0.0, min_impurity_split=None,\n",
              "                       min_samples_leaf=1, min_samples_split=2,\n",
              "                       min_weight_fraction_leaf=0.0, n_estimators=150,\n",
              "                       n_jobs=None, oob_score=False, random_state=42, verbose=0,\n",
              "                       warm_start=False)"
            ]
          },
          "metadata": {
            "tags": []
          },
          "execution_count": 78
        }
      ]
    },
    {
      "cell_type": "code",
      "metadata": {
        "id": "mIeNFLRmFxyx",
        "colab": {
          "base_uri": "https://localhost:8080/"
        },
        "outputId": "c8df2631-bdaf-4a6d-e8d8-4616b9a355a5"
      },
      "source": [
        "y_pred_rf = rnd_clf.predict(X_test)\n",
        "accuracy_score(y_test, y_pred_rf)"
      ],
      "execution_count": 79,
      "outputs": [
        {
          "output_type": "execute_result",
          "data": {
            "text/plain": [
              "0.8283582089552238"
            ]
          },
          "metadata": {
            "tags": []
          },
          "execution_count": 79
        }
      ]
    },
    {
      "cell_type": "code",
      "metadata": {
        "id": "U8YGKv9J1qn-"
      },
      "source": [
        "rnd_clf.fit(train_full, target)\n",
        "y_pred_randf = rnd_clf.predict(test)\n",
        "#y_pred_randf"
      ],
      "execution_count": 80,
      "outputs": []
    },
    {
      "cell_type": "markdown",
      "metadata": {
        "id": "ocAiustiM7f7"
      },
      "source": [
        "###AdaBoost"
      ]
    },
    {
      "cell_type": "code",
      "metadata": {
        "id": "RXIdSZmeM97a",
        "colab": {
          "base_uri": "https://localhost:8080/"
        },
        "outputId": "626e1d6c-9c64-4052-bc0d-3c4541909041"
      },
      "source": [
        "ada_clf = AdaBoostClassifier(\n",
        "    DecisionTreeClassifier(max_depth=1), n_estimators=220,\n",
        "    algorithm=\"SAMME.R\", learning_rate=0.1, random_state=42)\n",
        "ada_clf.fit(X_train, y_train)"
      ],
      "execution_count": 81,
      "outputs": [
        {
          "output_type": "execute_result",
          "data": {
            "text/plain": [
              "AdaBoostClassifier(algorithm='SAMME.R',\n",
              "                   base_estimator=DecisionTreeClassifier(ccp_alpha=0.0,\n",
              "                                                         class_weight=None,\n",
              "                                                         criterion='gini',\n",
              "                                                         max_depth=1,\n",
              "                                                         max_features=None,\n",
              "                                                         max_leaf_nodes=None,\n",
              "                                                         min_impurity_decrease=0.0,\n",
              "                                                         min_impurity_split=None,\n",
              "                                                         min_samples_leaf=1,\n",
              "                                                         min_samples_split=2,\n",
              "                                                         min_weight_fraction_leaf=0.0,\n",
              "                                                         presort='deprecated',\n",
              "                                                         random_state=None,\n",
              "                                                         splitter='best'),\n",
              "                   learning_rate=0.1, n_estimators=220, random_state=42)"
            ]
          },
          "metadata": {
            "tags": []
          },
          "execution_count": 81
        }
      ]
    },
    {
      "cell_type": "code",
      "metadata": {
        "id": "7Vd-jbZ5PuPE",
        "colab": {
          "base_uri": "https://localhost:8080/"
        },
        "outputId": "5a4e4d60-98da-443c-9352-f9c7e00f2904"
      },
      "source": [
        "y_pred = ada_clf.predict(X_test)\n",
        "accuracy_score(y_test, y_pred)"
      ],
      "execution_count": 82,
      "outputs": [
        {
          "output_type": "execute_result",
          "data": {
            "text/plain": [
              "0.8246268656716418"
            ]
          },
          "metadata": {
            "tags": []
          },
          "execution_count": 82
        }
      ]
    },
    {
      "cell_type": "code",
      "metadata": {
        "id": "WpJ_nXrxXDbb"
      },
      "source": [
        "ada_clf.fit(train_full, target)\n",
        "y_pred_ada = ada_clf.predict(test)\n",
        "#y_pred_ada"
      ],
      "execution_count": 83,
      "outputs": []
    },
    {
      "cell_type": "markdown",
      "metadata": {
        "id": "09NV7Be0P9gv"
      },
      "source": [
        "###Gradient Boosting"
      ]
    },
    {
      "cell_type": "code",
      "metadata": {
        "id": "v-U3rtsVRDpA",
        "colab": {
          "base_uri": "https://localhost:8080/"
        },
        "outputId": "7ee5c593-06d2-4d87-db9a-0c990c5a06f4"
      },
      "source": [
        "gbrt = GradientBoostingRegressor(max_depth=2, n_estimators=180, learning_rate=0.1, random_state=42)\n",
        "gbrt.fit(X_train, y_train)"
      ],
      "execution_count": 84,
      "outputs": [
        {
          "output_type": "execute_result",
          "data": {
            "text/plain": [
              "GradientBoostingRegressor(alpha=0.9, ccp_alpha=0.0, criterion='friedman_mse',\n",
              "                          init=None, learning_rate=0.1, loss='ls', max_depth=2,\n",
              "                          max_features=None, max_leaf_nodes=None,\n",
              "                          min_impurity_decrease=0.0, min_impurity_split=None,\n",
              "                          min_samples_leaf=1, min_samples_split=2,\n",
              "                          min_weight_fraction_leaf=0.0, n_estimators=180,\n",
              "                          n_iter_no_change=None, presort='deprecated',\n",
              "                          random_state=42, subsample=1.0, tol=0.0001,\n",
              "                          validation_fraction=0.1, verbose=0, warm_start=False)"
            ]
          },
          "metadata": {
            "tags": []
          },
          "execution_count": 84
        }
      ]
    },
    {
      "cell_type": "code",
      "metadata": {
        "id": "WvNx7lQwRkMz"
      },
      "source": [
        "y_pred = gbrt.predict(X_test)\n",
        "y_predicted = np.round(y_pred).astype(int)\n",
        "y_predicted = np.squeeze(y_predicted)"
      ],
      "execution_count": 85,
      "outputs": []
    },
    {
      "cell_type": "code",
      "metadata": {
        "id": "WaF_hQOORqCE",
        "colab": {
          "base_uri": "https://localhost:8080/"
        },
        "outputId": "8d2b54f6-df19-489e-e801-bca79f60806c"
      },
      "source": [
        "print(accuracy_score(y_test, y_predicted))"
      ],
      "execution_count": 86,
      "outputs": [
        {
          "output_type": "stream",
          "text": [
            "0.8246268656716418\n"
          ],
          "name": "stdout"
        }
      ]
    },
    {
      "cell_type": "code",
      "metadata": {
        "id": "ZpTcBqgIZdHk"
      },
      "source": [
        "gbrt.fit(train_full, target)\n",
        "y_pred_gboost = gbrt.predict(test)\n",
        "y_predicted_gb = np.round(y_pred_gboost).astype(int)\n",
        "y_predicted_gb = np.squeeze(y_predicted_gb)"
      ],
      "execution_count": 87,
      "outputs": []
    },
    {
      "cell_type": "markdown",
      "metadata": {
        "id": "FG03xgFeTIam"
      },
      "source": [
        "###XGBoost"
      ]
    },
    {
      "cell_type": "code",
      "metadata": {
        "id": "Pip-_BzTTPxS",
        "colab": {
          "base_uri": "https://localhost:8080/"
        },
        "outputId": "77ac426d-243b-4515-8ff7-fdb8c44aa36d"
      },
      "source": [
        "xgb_reg = xgboost.XGBRegressor(random_state=42,objective ='reg:squarederror')\n",
        "xgb_reg.fit(X_train, y_train)\n",
        "y_pred = xgb_reg.predict(X_test)\n",
        "val_error = mean_squared_error(y_test, y_pred)\n",
        "print(\"Validation MSE:\", val_error)           \n",
        "predictions = [round(value) for value in y_pred]\n",
        "accuracy = accuracy_score(y_test, predictions)\n",
        "print(\"Accuracy: \", accuracy)"
      ],
      "execution_count": 88,
      "outputs": [
        {
          "output_type": "stream",
          "text": [
            "Validation MSE: 0.135132132468026\n",
            "Accuracy:  0.8208955223880597\n"
          ],
          "name": "stdout"
        }
      ]
    },
    {
      "cell_type": "code",
      "metadata": {
        "id": "GCy-1n6bcK19"
      },
      "source": [
        "xgb_reg.fit(train_full, target)\n",
        "y_pred_xgb = xgb_reg.predict(test)\n",
        "predictions_xgb = [round(value) for value in y_pred_xgb]\n",
        "#predictions_xgb"
      ],
      "execution_count": 89,
      "outputs": []
    },
    {
      "cell_type": "markdown",
      "metadata": {
        "id": "QMyrUqJM5Ms2"
      },
      "source": [
        "#Creazione della submission"
      ]
    },
    {
      "cell_type": "code",
      "metadata": {
        "id": "35bhNxUPEPFn"
      },
      "source": [
        "sub = pd.DataFrame(columns=['PassengerId','Survived'])\n",
        "prova=pd.read_csv(DATAPATH + 'test.csv')\n",
        "passengerId=prova['PassengerId']\n",
        "\n",
        "#y_test_pred=neural_model.predict(data_test)\n",
        "\n",
        "kaggle = pd.DataFrame({'PassengerId': passengerId, 'Survived': y_pred_softVot})\n",
        "kaggle.to_csv('softVot.csv', index=False)"
      ],
      "execution_count": 90,
      "outputs": []
    },
    {
      "cell_type": "code",
      "metadata": {
        "id": "3vKDdn_Q4G5U"
      },
      "source": [
        ""
      ],
      "execution_count": 90,
      "outputs": []
    }
  ]
}